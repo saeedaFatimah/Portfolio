{
 "cells": [
  {
   "cell_type": "markdown",
   "metadata": {
    "id": "RdordHiQfvwv"
   },
   "source": [
    "# Instructions\n",
    "\n",
    "1. Use python libraries to answer both the questions\n",
    "2. Write your conclusion in plain english\n",
    "3. Perform basic analysis for both the question (clicks and bounce frequency counts)"
   ]
  },
  {
   "cell_type": "code",
   "execution_count": 421,
   "metadata": {
    "executionInfo": {
     "elapsed": 721,
     "status": "ok",
     "timestamp": 1708880394590,
     "user": {
      "displayName": "Mesum Raza Hemani",
      "userId": "02137032281712867702"
     },
     "user_tz": -300
    },
    "id": "cx0LwVMjIf8G"
   },
   "outputs": [],
   "source": [
    "import pandas as pd\n",
    "import numpy as np\n",
    "from scipy import stats\n",
    "from scipy.stats import chi2\n",
    "from scipy.stats import norm\n",
    "from scipy.stats import ttest_ind\n",
    "from statsmodels.stats.proportion import proportions_ztest\n",
    "import pandas as pd\n",
    "import numpy as np\n",
    "import random\n",
    "from scipy import stats\n",
    "import matplotlib.pyplot as plt\n",
    "import seaborn as sns\n",
    "import statsmodels.api as sm\n"
   ]
  },
  {
   "cell_type": "markdown",
   "metadata": {
    "id": "vINv88HoNWzZ"
   },
   "source": [
    "# INFERENCE FOR CATEGORICAL VALUES"
   ]
  },
  {
   "cell_type": "markdown",
   "metadata": {
    "id": "V9cQBF0WOMwG"
   },
   "source": [
    "## Question 1"
   ]
  },
  {
   "cell_type": "markdown",
   "metadata": {
    "colab": {
     "base_uri": "https://localhost:8080/",
     "height": 125
    },
    "executionInfo": {
     "elapsed": 5,
     "status": "ok",
     "timestamp": 1708881034400,
     "user": {
      "displayName": "Mesum Raza Hemani",
      "userId": "02137032281712867702"
     },
     "user_tz": -300
    },
    "id": "o5mwp-sKOie_",
    "outputId": "61c978d0-2ad1-4426-c8f8-331747b4789d"
   },
   "source": [
    "An advertising firm has decided to ask 92 customers at each of three local shopping malls if they are willing to take part in a market research survey. According to previous studies, 38% of Americans refuse to take part in such surveys. The results are shown here. At a 0.01 significance level, test the claim that the proportions of those who are willing to participate are equal."
   ]
  },
  {
   "cell_type": "code",
   "execution_count": 422,
   "metadata": {
    "colab": {
     "base_uri": "https://localhost:8080/",
     "height": 125
    },
    "executionInfo": {
     "elapsed": 5,
     "status": "ok",
     "timestamp": 1708881034400,
     "user": {
      "displayName": "Mesum Raza Hemani",
      "userId": "02137032281712867702"
     },
     "user_tz": -300
    },
    "id": "o5mwp-sKOie_",
    "outputId": "61c978d0-2ad1-4426-c8f8-331747b4789d"
   },
   "outputs": [],
   "source": [
    "data = {\n",
    "    \"Participation Status\": [\"Will Participate\", \"Will Not Participate\"],\n",
    "    \"Mall A\": [52, 40],\n",
    "    \"Mall B\": [45, 47],\n",
    "    \"Mall C\": [36, 56]\n",
    "}\n",
    "\n",
    "df = pd.DataFrame(data)"
   ]
  },
  {
   "cell_type": "code",
   "execution_count": 423,
   "metadata": {},
   "outputs": [
    {
     "name": "stdout",
     "output_type": "stream",
     "text": [
      "Chi-square Statistic: 5.601556338398444\n",
      "P-value: 0.06076276051439011\n"
     ]
    }
   ],
   "source": [
    "\n",
    "observed = np.array([[52, 45, 36], [40, 47, 56]])\n",
    "\n",
    "row_totals = observed.sum(axis=1)\n",
    "col_totals = observed.sum(axis=0)\n",
    "total = observed.sum()\n",
    "\n",
    "expected = np.outer(row_totals, col_totals) / total\n",
    "\n",
    "chi2_statistic = np.sum((observed - expected)**2 / expected)\n",
    "\n",
    "degrees_of_freedom = (observed.shape[0] - 1) * (observed.shape[1] - 1)\n",
    "\n",
    "p_value = 1 - chi2.cdf(chi2_statistic, degrees_of_freedom)\n",
    "\n",
    "print(\"Chi-square Statistic:\", chi2_statistic)\n",
    "print(\"P-value:\", p_value)\n"
   ]
  },
  {
   "cell_type": "code",
   "execution_count": 424,
   "metadata": {
    "colab": {
     "base_uri": "https://localhost:8080/",
     "height": 125
    },
    "executionInfo": {
     "elapsed": 5,
     "status": "ok",
     "timestamp": 1708881034400,
     "user": {
      "displayName": "Mesum Raza Hemani",
      "userId": "02137032281712867702"
     },
     "user_tz": -300
    },
    "id": "o5mwp-sKOie_",
    "outputId": "61c978d0-2ad1-4426-c8f8-331747b4789d"
   },
   "outputs": [],
   "source": [
    "significance_level = 0.01\n",
    "\n",
    "# Null hypothesis: The proportions of customers willing to participate are equal across the three malls.\n",
    "# Alternative hypothesis: The proportions of customers willing to participate are not equal across the three malls."
   ]
  },
  {
   "cell_type": "raw",
   "metadata": {},
   "source": [
    "Null Hypothesis (H0):(H0: p_mall1 = p_mall2 = p_mall3 = 0.38) The proportion of customers willing to take part in the market research survey at each shopping mall is equal to 38%, which is the national refusal rate for such surveys.\n",
    "\n",
    "Alternative Hypothesis (HA):((HA:p_mall1 = p_mall2 = p_mall3 ≠ 0.38) The proportion of customers willing to take part in the market research survey at each shopping mall is not equal to 38%."
   ]
  },
  {
   "cell_type": "code",
   "execution_count": 456,
   "metadata": {
    "colab": {
     "base_uri": "https://localhost:8080/",
     "height": 125
    },
    "executionInfo": {
     "elapsed": 5,
     "status": "ok",
     "timestamp": 1708881034400,
     "user": {
      "displayName": "Mesum Raza Hemani",
      "userId": "02137032281712867702"
     },
     "user_tz": -300
    },
    "id": "o5mwp-sKOie_",
    "outputId": "61c978d0-2ad1-4426-c8f8-331747b4789d"
   },
   "outputs": [
    {
     "name": "stdout",
     "output_type": "stream",
     "text": [
      "Fail to reject the null hypothesis. There is not enough evidence to conclude that the proportions of participants are different across the malls.\n"
     ]
    }
   ],
   "source": [
    "if p_value >=significance_level:\n",
    "    print(\"Fail to reject the null hypothesis. There is not enough evidence to conclude that the proportions of participants are different across the malls.\")\n",
    "else:\n",
    "    print(\"Reject the null hypothesis. There is evidence to suggest that the proportions of participants are not equal across the malls.\")"
   ]
  },
  {
   "cell_type": "raw",
   "metadata": {},
   "source": [
    "p value calculated as 0.060762 is greater than 0.01 significance_level so we fail to reject the null hypothesis. There is not enough evidence to conclude that the proportions of participants are different across the malls."
   ]
  },
  {
   "cell_type": "markdown",
   "metadata": {
    "id": "61mUWVOPOFMo"
   },
   "source": [
    "## Question 2"
   ]
  },
  {
   "cell_type": "markdown",
   "metadata": {
    "id": "ykYdp3CcMM1y"
   },
   "source": [
    "Nationwide the shares of carbon emissions for the year 2000 are transportation, 33%; industry, 30%; residential, 20%; and commercial, 17%. A state hazardous materials official wants to see if her state is the same.\n",
    "\n",
    "Her study of 300 emissions sources finds transportation, 36%; industry, 31%; residential, 17%; and commercial, 16%. At a 0.05 significance level, can she claim the percentages are the same?"
   ]
  },
  {
   "cell_type": "code",
   "execution_count": 426,
   "metadata": {
    "colab": {
     "base_uri": "https://localhost:8080/",
     "height": 175
    },
    "executionInfo": {
     "elapsed": 6,
     "status": "ok",
     "timestamp": 1708881283129,
     "user": {
      "displayName": "Mesum Raza Hemani",
      "userId": "02137032281712867702"
     },
     "user_tz": -300
    },
    "id": "7ay8rHlWNb2m",
    "outputId": "63aa56e2-2ceb-4db5-ba5b-4f5b2c81593b"
   },
   "outputs": [],
   "source": [
    "data = {\n",
    "    \"Sector\": [\"Transportation\", \"Industry\", \"Residential\", \"Commercial\"],\n",
    "    \"Percentage_nationwide\": [33, 30, 20, 17],\n",
    "    \"Percentage_state\": [36, 31, 17, 16]\n",
    "}\n",
    "\n",
    "df = pd.DataFrame(data)"
   ]
  },
  {
   "cell_type": "code",
   "execution_count": 427,
   "metadata": {},
   "outputs": [
    {
     "name": "stdout",
     "output_type": "stream",
     "text": [
      "Chi-square statistic: 2.4446524064171107\n",
      "P-value: 0.4853767186730823\n"
     ]
    }
   ],
   "source": [
    "observed_percentages = [36, 31, 17, 16]\n",
    "\n",
    "expected_percentages = [33, 30, 20, 17]\n",
    "sampleSize=300\n",
    "expected_freq = np.array([0.33 * sampleSize, 0.30 * sampleSize, 0.20 * sampleSize, 0.17 * sampleSize])\n",
    "\n",
    "observed_freq = np.array([0.36 * 300, 0.31 * 300, 0.17 * 300, 0.16 * 300])\n",
    "\n",
    "chi_sq_stat = np.sum((observed_freq - expected_freq)**2 / expected_freq)\n",
    "\n",
    "df = len(observed_freq) - 1\n",
    "\n",
    "p_value = 1 - stats.chi2.cdf(chi_sq_stat, df)\n",
    "\n",
    "print(f\"Chi-square statistic: {chi_sq_stat}\")\n",
    "print(f\"P-value: {p_value}\")\n"
   ]
  },
  {
   "cell_type": "raw",
   "metadata": {},
   "source": [
    "Null Hypothesis(H0: π1 = π2 = π3 = π4) The distribution of carbon emissions in the state is the same as the nationwide distribution. The proportions of carbon emissions from transportation, industry, residential, and commercial sources in the state are equal to 33%, 30%, 20%, and 17%, respectively.\n",
    "\n",
    "Alternative Hypothesis (HA: At least one πi is different): The distribution of carbon emissions in the state is different from the nationwide distribution. At least one of the proportions of carbon emissions from transportation, industry, residential, and commercial sources in the state is different from the corresponding nationwide proportion."
   ]
  },
  {
   "cell_type": "code",
   "execution_count": 428,
   "metadata": {
    "colab": {
     "base_uri": "https://localhost:8080/",
     "height": 175
    },
    "executionInfo": {
     "elapsed": 6,
     "status": "ok",
     "timestamp": 1708881283129,
     "user": {
      "displayName": "Mesum Raza Hemani",
      "userId": "02137032281712867702"
     },
     "user_tz": -300
    },
    "id": "7ay8rHlWNb2m",
    "outputId": "63aa56e2-2ceb-4db5-ba5b-4f5b2c81593b"
   },
   "outputs": [
    {
     "name": "stdout",
     "output_type": "stream",
     "text": [
      "Fail to reject the null hypothesis (H0). There is not enough evidence to conclude that the proportions of carbon emissions in the state are different from the national proportions at a significance level of 0.05.\n"
     ]
    }
   ],
   "source": [
    "# Null hypothesis: H0: π1 = π2 = π3 = π4 (The state's emission percentages are the same as the national percentages)\n",
    "# Alternative hypothesis: HA: At least one πi is different (The state's emission percentages are different from the national percentages)\n",
    "\n",
    "significance_level = 0.05\n",
    "if p_value >= significance_level:\n",
    "    print(\"Fail to reject the null hypothesis (H0). There is not enough evidence to conclude that the proportions of carbon emissions in the state are different from the national proportions at a significance level of 0.05.\")\n",
    "else:\n",
    "    print(\"Reject the null hypothesis (H0). There is evidence to suggest that the proportions of carbon emissions in the state are different from the national proportions at a significance level of 0.05.\")"
   ]
  },
  {
   "cell_type": "raw",
   "metadata": {},
   "source": [
    "P value as calculated 0.4853 is greater than the significance_level 0.05 so we fail to reject the null hypothesis (H0). There is not enough evidence to conclude that the proportions of carbon emissions in the state are different from the national proportions at a significance level of 0.05."
   ]
  },
  {
   "cell_type": "markdown",
   "metadata": {
    "id": "fbjMFzsrN4GA"
   },
   "source": [
    "# A/B Testing in Business"
   ]
  },
  {
   "cell_type": "markdown",
   "metadata": {
    "id": "81ObvwjzU4Vm"
   },
   "source": [
    "## Question 3"
   ]
  },
  {
   "cell_type": "markdown",
   "metadata": {
    "id": "_imCC2OkJY9e"
   },
   "source": [
    "### Problem Statement\n",
    "\n",
    "You work as a Data Scientist at Udacity. Udacity recently launched a new feature in which they ask the user about the time they can put in for the course they are enrolling. If the student put less than the required time then the platform shows a pop up message which says that you can only enroll in the course if you commit at least the minimum time required for this particular course.\n",
    "\n",
    "================================================================================\n",
    "\n",
    "Udacity wants to determine that how this new feature will effect the bounce rate of the platform. Let's do A/B test to determine.\n",
    "\n",
    "Example\n",
    "=======\n",
    "A course requires an effort of atleast 10 hours a week but the students says that he can put only 7 hours a week then the platform will prompt the user that they will have to commit atleast 10 hours to enroll in the course.\n",
    "\n",
    "\n",
    "\n"
   ]
  },
  {
   "cell_type": "code",
   "execution_count": 429,
   "metadata": {},
   "outputs": [],
   "source": [
    "# Preparing the Dataset\n",
    "\n",
    "df = pd.read_csv('https://raw.githubusercontent.com/usmanabbas7/karachi.ai/main/udacity.csv')"
   ]
  },
  {
   "cell_type": "code",
   "execution_count": 430,
   "metadata": {},
   "outputs": [
    {
     "data": {
      "text/html": [
       "<div>\n",
       "<style scoped>\n",
       "    .dataframe tbody tr th:only-of-type {\n",
       "        vertical-align: middle;\n",
       "    }\n",
       "\n",
       "    .dataframe tbody tr th {\n",
       "        vertical-align: top;\n",
       "    }\n",
       "\n",
       "    .dataframe thead th {\n",
       "        text-align: right;\n",
       "    }\n",
       "</style>\n",
       "<table border=\"1\" class=\"dataframe\">\n",
       "  <thead>\n",
       "    <tr style=\"text-align: right;\">\n",
       "      <th></th>\n",
       "      <th>user_id</th>\n",
       "      <th>is_bounce</th>\n",
       "      <th>version</th>\n",
       "    </tr>\n",
       "  </thead>\n",
       "  <tbody>\n",
       "    <tr>\n",
       "      <th>0</th>\n",
       "      <td>305</td>\n",
       "      <td>1</td>\n",
       "      <td>default version</td>\n",
       "    </tr>\n",
       "    <tr>\n",
       "      <th>1</th>\n",
       "      <td>568</td>\n",
       "      <td>1</td>\n",
       "      <td>new version</td>\n",
       "    </tr>\n",
       "    <tr>\n",
       "      <th>2</th>\n",
       "      <td>895</td>\n",
       "      <td>0</td>\n",
       "      <td>new version</td>\n",
       "    </tr>\n",
       "    <tr>\n",
       "      <th>3</th>\n",
       "      <td>665</td>\n",
       "      <td>1</td>\n",
       "      <td>new version</td>\n",
       "    </tr>\n",
       "    <tr>\n",
       "      <th>4</th>\n",
       "      <td>738</td>\n",
       "      <td>0</td>\n",
       "      <td>new version</td>\n",
       "    </tr>\n",
       "    <tr>\n",
       "      <th>...</th>\n",
       "      <td>...</td>\n",
       "      <td>...</td>\n",
       "      <td>...</td>\n",
       "    </tr>\n",
       "    <tr>\n",
       "      <th>495</th>\n",
       "      <td>324</td>\n",
       "      <td>1</td>\n",
       "      <td>default version</td>\n",
       "    </tr>\n",
       "    <tr>\n",
       "      <th>496</th>\n",
       "      <td>77</td>\n",
       "      <td>1</td>\n",
       "      <td>default version</td>\n",
       "    </tr>\n",
       "    <tr>\n",
       "      <th>497</th>\n",
       "      <td>890</td>\n",
       "      <td>0</td>\n",
       "      <td>new version</td>\n",
       "    </tr>\n",
       "    <tr>\n",
       "      <th>498</th>\n",
       "      <td>60</td>\n",
       "      <td>1</td>\n",
       "      <td>default version</td>\n",
       "    </tr>\n",
       "    <tr>\n",
       "      <th>499</th>\n",
       "      <td>906</td>\n",
       "      <td>0</td>\n",
       "      <td>new version</td>\n",
       "    </tr>\n",
       "  </tbody>\n",
       "</table>\n",
       "<p>500 rows × 3 columns</p>\n",
       "</div>"
      ],
      "text/plain": [
       "     user_id  is_bounce          version\n",
       "0        305          1  default version\n",
       "1        568          1      new version\n",
       "2        895          0      new version\n",
       "3        665          1      new version\n",
       "4        738          0      new version\n",
       "..       ...        ...              ...\n",
       "495      324          1  default version\n",
       "496       77          1  default version\n",
       "497      890          0      new version\n",
       "498       60          1  default version\n",
       "499      906          0      new version\n",
       "\n",
       "[500 rows x 3 columns]"
      ]
     },
     "execution_count": 430,
     "metadata": {},
     "output_type": "execute_result"
    }
   ],
   "source": [
    "# Sample Data\n",
    "\n",
    "df"
   ]
  },
  {
   "cell_type": "code",
   "execution_count": 431,
   "metadata": {},
   "outputs": [],
   "source": [
    "df = df.drop_duplicates().reset_index(drop=True)"
   ]
  },
  {
   "cell_type": "code",
   "execution_count": 432,
   "metadata": {},
   "outputs": [
    {
     "data": {
      "text/plain": [
       "user_id      0\n",
       "is_bounce    0\n",
       "version      0\n",
       "dtype: int64"
      ]
     },
     "execution_count": 432,
     "metadata": {},
     "output_type": "execute_result"
    }
   ],
   "source": [
    "df.isna().sum()"
   ]
  },
  {
   "cell_type": "code",
   "execution_count": 433,
   "metadata": {},
   "outputs": [
    {
     "data": {
      "text/plain": [
       "version\n",
       "default version    0.51\n",
       "new version        0.49\n",
       "Name: proportion, dtype: float64"
      ]
     },
     "execution_count": 433,
     "metadata": {},
     "output_type": "execute_result"
    }
   ],
   "source": [
    "df['version'].value_counts(normalize=True)"
   ]
  },
  {
   "cell_type": "code",
   "execution_count": 434,
   "metadata": {},
   "outputs": [
    {
     "data": {
      "text/plain": [
       "is_bounce\n",
       "1    0.696\n",
       "0    0.304\n",
       "Name: proportion, dtype: float64"
      ]
     },
     "execution_count": 434,
     "metadata": {},
     "output_type": "execute_result"
    }
   ],
   "source": [
    "df['is_bounce'].value_counts(normalize=True)"
   ]
  },
  {
   "cell_type": "markdown",
   "metadata": {},
   "source": [
    "Lets consider significance level(alpha) = 0.05"
   ]
  },
  {
   "cell_type": "code",
   "execution_count": 435,
   "metadata": {},
   "outputs": [],
   "source": [
    "data = pd.crosstab(df['version'], df['is_bounce'])"
   ]
  },
  {
   "cell_type": "code",
   "execution_count": 436,
   "metadata": {},
   "outputs": [],
   "source": [
    "data['Total'] = df.groupby('version')['is_bounce'].count()"
   ]
  },
  {
   "cell_type": "code",
   "execution_count": 437,
   "metadata": {},
   "outputs": [
    {
     "data": {
      "text/html": [
       "<div>\n",
       "<style scoped>\n",
       "    .dataframe tbody tr th:only-of-type {\n",
       "        vertical-align: middle;\n",
       "    }\n",
       "\n",
       "    .dataframe tbody tr th {\n",
       "        vertical-align: top;\n",
       "    }\n",
       "\n",
       "    .dataframe thead th {\n",
       "        text-align: right;\n",
       "    }\n",
       "</style>\n",
       "<table border=\"1\" class=\"dataframe\">\n",
       "  <thead>\n",
       "    <tr style=\"text-align: right;\">\n",
       "      <th>is_bounce</th>\n",
       "      <th>0</th>\n",
       "      <th>1</th>\n",
       "      <th>Total</th>\n",
       "    </tr>\n",
       "    <tr>\n",
       "      <th>version</th>\n",
       "      <th></th>\n",
       "      <th></th>\n",
       "      <th></th>\n",
       "    </tr>\n",
       "  </thead>\n",
       "  <tbody>\n",
       "    <tr>\n",
       "      <th>default version</th>\n",
       "      <td>0</td>\n",
       "      <td>255</td>\n",
       "      <td>255</td>\n",
       "    </tr>\n",
       "    <tr>\n",
       "      <th>new version</th>\n",
       "      <td>152</td>\n",
       "      <td>93</td>\n",
       "      <td>245</td>\n",
       "    </tr>\n",
       "  </tbody>\n",
       "</table>\n",
       "</div>"
      ],
      "text/plain": [
       "is_bounce          0    1  Total\n",
       "version                         \n",
       "default version    0  255    255\n",
       "new version      152   93    245"
      ]
     },
     "execution_count": 437,
     "metadata": {},
     "output_type": "execute_result"
    }
   ],
   "source": [
    "data"
   ]
  },
  {
   "cell_type": "code",
   "execution_count": 438,
   "metadata": {},
   "outputs": [],
   "source": [
    "## Testing the Hypothesis\n",
    "\n",
    "from statsmodels.stats.proportion import proportions_ztest, proportion_confint"
   ]
  },
  {
   "cell_type": "code",
   "execution_count": 439,
   "metadata": {},
   "outputs": [
    {
     "data": {
      "text/plain": [
       "version\n",
       "default version    255\n",
       "new version         93\n",
       "Name: 1, dtype: int64"
      ]
     },
     "execution_count": 439,
     "metadata": {},
     "output_type": "execute_result"
    }
   ],
   "source": [
    "data[1]"
   ]
  },
  {
   "cell_type": "code",
   "execution_count": 440,
   "metadata": {},
   "outputs": [],
   "source": [
    "converted_results = data[1]\n",
    "total = data['Total']"
   ]
  },
  {
   "cell_type": "code",
   "execution_count": 441,
   "metadata": {},
   "outputs": [
    {
     "data": {
      "text/plain": [
       "version\n",
       "default version    255\n",
       "new version         93\n",
       "Name: 1, dtype: int64"
      ]
     },
     "execution_count": 441,
     "metadata": {},
     "output_type": "execute_result"
    }
   ],
   "source": [
    "converted_results"
   ]
  },
  {
   "cell_type": "code",
   "execution_count": 442,
   "metadata": {},
   "outputs": [
    {
     "data": {
      "text/plain": [
       "version\n",
       "default version    255\n",
       "new version        245\n",
       "Name: Total, dtype: int64"
      ]
     },
     "execution_count": 442,
     "metadata": {},
     "output_type": "execute_result"
    }
   ],
   "source": [
    "total"
   ]
  },
  {
   "cell_type": "code",
   "execution_count": 443,
   "metadata": {},
   "outputs": [
    {
     "name": "stdout",
     "output_type": "stream",
     "text": [
      "z statistic = 15.076628104103516\n",
      "P-value: 2.30756566793485e-51\n"
     ]
    }
   ],
   "source": [
    "z_stat, p_val = proportions_ztest(count=converted_results, nobs=total, alternative=\"two-sided\")\n",
    "print(f'z statistic = {z_stat}')\n",
    "\n",
    "print(\"P-value:\", p_val)"
   ]
  },
  {
   "cell_type": "raw",
   "metadata": {},
   "source": [
    "Null Hypothesis H0: μ_exp = μ_ctrl The new feature does not affect the bounce rate of the platform. The mean bounce rate of users who see the pop-up message (experimental group) is the same as the mean bounce rate of users who do not see the pop-up message (control group).\n",
    "\n",
    "Alternative Hypothesis HA: μ_exp ≠ μ_ctrl The new feature affects the bounce rate of the platform. The mean bounce rate of users who see the pop-up message (experimental group) is different from the mean bounce rate of users who do not see the pop-up message (control group)."
   ]
  },
  {
   "cell_type": "code",
   "execution_count": 444,
   "metadata": {},
   "outputs": [
    {
     "name": "stdout",
     "output_type": "stream",
     "text": [
      "Reject the null hypothesis. There is enough evidence to suggest that the bounce rates of the two groups are different.\n"
     ]
    }
   ],
   "source": [
    "alpha=0.05\n",
    "\n",
    "if p_val >= alpha:\n",
    "    print(\"Fail to reject the null hypothesis. There is not enough evidence to suggest that the bounce rates of the two groups are different.\")\n",
    "else:\n",
    "    print(\"Reject the null hypothesis. There is enough evidence to suggest that the bounce rates of the two groups are different.\")"
   ]
  },
  {
   "cell_type": "code",
   "execution_count": 445,
   "metadata": {},
   "outputs": [
    {
     "data": {
      "text/plain": [
       "1.959963984540054"
      ]
     },
     "execution_count": 445,
     "metadata": {},
     "output_type": "execute_result"
    }
   ],
   "source": [
    "# Sanity check\n",
    "(1 - stats.norm.cdf(z_stat)) * 2\n",
    "# (1 - stats.norm.cdf(z_stat)) * 2\n",
    "\n",
    "# Z value from table\n",
    "\n",
    "stats.norm.ppf(0.95 + (0.05/2))"
   ]
  },
  {
   "cell_type": "code",
   "execution_count": 446,
   "metadata": {},
   "outputs": [
    {
     "name": "stdout",
     "output_type": "stream",
     "text": [
      "z statistic: 15.076628104103516\n",
      "P-value: 2.30756566793485e-51\n"
     ]
    }
   ],
   "source": [
    "# OR\n",
    "\n",
    "control_results = df[df['version'] == 'default version']['is_bounce']\n",
    "treatment_results = df[df['version'] == 'new version']['is_bounce']\n",
    "\n",
    "\n",
    "n_con = control_results.count()\n",
    "n_treat = treatment_results.count()\n",
    "successes = [control_results.sum(), treatment_results.sum()]\n",
    "nobs = [n_con, n_treat]\n",
    "\n",
    "z_stat, pvalue = proportions_ztest(successes, nobs=nobs)\n",
    "\n",
    "print(f'z statistic: {z_stat}')\n",
    "\n",
    "print(\"P-value:\", pvalue)\n",
    "\n",
    "alpha=0.05"
   ]
  },
  {
   "cell_type": "raw",
   "metadata": {},
   "source": [
    "Null Hypothesis H0: μ_exp = μ_ctrl The new feature does not affect the bounce rate of the platform. The mean bounce rate of users who see the pop-up message (experimental group) is the same as the mean bounce rate of users who do not see the pop-up message (control group).\n",
    "\n",
    "Alternative Hypothesis HA: μ_exp ≠ μ_ctrl The new feature affects the bounce rate of the platform. The mean bounce rate of users who see the pop-up message (experimental group) is different from the mean bounce rate of users who do not see the pop-up message (control group)."
   ]
  },
  {
   "cell_type": "code",
   "execution_count": 447,
   "metadata": {},
   "outputs": [
    {
     "name": "stdout",
     "output_type": "stream",
     "text": [
      "Reject the null hypothesis. There is enough evidence to suggest that the bounce rates of the two groups are different.\n"
     ]
    }
   ],
   "source": [
    "if pvalue >= alpha:\n",
    "    print(\"Fail to reject the null hypothesis. There is not enough evidence to suggest that the bounce rates of the two groups are different.\")\n",
    "else:\n",
    "    print(\"Reject the null hypothesis. There is enough evidence to suggest that the bounce rates of the two groups are different.\")"
   ]
  },
  {
   "cell_type": "raw",
   "metadata": {},
   "source": [
    "p-value as calculated 2.30756566793485e-51 is less than significance level so we reject the null hypothesis that there is enough evidence to suggest that the bounce rates of the two groups are different."
   ]
  },
  {
   "cell_type": "markdown",
   "metadata": {},
   "source": [
    "# Question # 4"
   ]
  },
  {
   "cell_type": "markdown",
   "metadata": {},
   "source": [
    "Suppose that you work in the analytics team of Upwork. Data Science team deployed new ranking stategy in the \"Job Search\" module. You need to perform A/B to check that whether there is a significant difference between the average page stay time of the customers for old and new ranking strategy.\n",
    "\n",
    "Hint : Use Two sample mean t test\n",
    "\n",
    "https://docs.scipy.org/doc/scipy/reference/generated/scipy.stats.ttest_ind.html\n",
    "\n",
    "Write conclusion of your test in plain english."
   ]
  },
  {
   "cell_type": "code",
   "execution_count": 448,
   "metadata": {},
   "outputs": [],
   "source": [
    "df = pd.read_csv('https://raw.githubusercontent.com/usmanabbas7/karachi.ai/main/ranking_ab_test.csv')"
   ]
  },
  {
   "cell_type": "code",
   "execution_count": 449,
   "metadata": {
    "scrolled": true
   },
   "outputs": [
    {
     "data": {
      "text/html": [
       "<div>\n",
       "<style scoped>\n",
       "    .dataframe tbody tr th:only-of-type {\n",
       "        vertical-align: middle;\n",
       "    }\n",
       "\n",
       "    .dataframe tbody tr th {\n",
       "        vertical-align: top;\n",
       "    }\n",
       "\n",
       "    .dataframe thead th {\n",
       "        text-align: right;\n",
       "    }\n",
       "</style>\n",
       "<table border=\"1\" class=\"dataframe\">\n",
       "  <thead>\n",
       "    <tr style=\"text-align: right;\">\n",
       "      <th></th>\n",
       "      <th>user_id</th>\n",
       "      <th>page_stay_time</th>\n",
       "      <th>version</th>\n",
       "    </tr>\n",
       "  </thead>\n",
       "  <tbody>\n",
       "    <tr>\n",
       "      <th>0</th>\n",
       "      <td>0</td>\n",
       "      <td>8</td>\n",
       "      <td>default raking algo</td>\n",
       "    </tr>\n",
       "    <tr>\n",
       "      <th>1</th>\n",
       "      <td>1</td>\n",
       "      <td>5</td>\n",
       "      <td>default raking algo</td>\n",
       "    </tr>\n",
       "    <tr>\n",
       "      <th>2</th>\n",
       "      <td>2</td>\n",
       "      <td>22</td>\n",
       "      <td>default raking algo</td>\n",
       "    </tr>\n",
       "    <tr>\n",
       "      <th>3</th>\n",
       "      <td>3</td>\n",
       "      <td>19</td>\n",
       "      <td>default raking algo</td>\n",
       "    </tr>\n",
       "    <tr>\n",
       "      <th>4</th>\n",
       "      <td>4</td>\n",
       "      <td>1</td>\n",
       "      <td>default raking algo</td>\n",
       "    </tr>\n",
       "    <tr>\n",
       "      <th>...</th>\n",
       "      <td>...</td>\n",
       "      <td>...</td>\n",
       "      <td>...</td>\n",
       "    </tr>\n",
       "    <tr>\n",
       "      <th>995</th>\n",
       "      <td>995</td>\n",
       "      <td>29</td>\n",
       "      <td>new ranking algo</td>\n",
       "    </tr>\n",
       "    <tr>\n",
       "      <th>996</th>\n",
       "      <td>996</td>\n",
       "      <td>11</td>\n",
       "      <td>new ranking algo</td>\n",
       "    </tr>\n",
       "    <tr>\n",
       "      <th>997</th>\n",
       "      <td>997</td>\n",
       "      <td>3</td>\n",
       "      <td>new ranking algo</td>\n",
       "    </tr>\n",
       "    <tr>\n",
       "      <th>998</th>\n",
       "      <td>998</td>\n",
       "      <td>2</td>\n",
       "      <td>new ranking algo</td>\n",
       "    </tr>\n",
       "    <tr>\n",
       "      <th>999</th>\n",
       "      <td>999</td>\n",
       "      <td>12</td>\n",
       "      <td>new ranking algo</td>\n",
       "    </tr>\n",
       "  </tbody>\n",
       "</table>\n",
       "<p>1000 rows × 3 columns</p>\n",
       "</div>"
      ],
      "text/plain": [
       "     user_id  page_stay_time              version\n",
       "0          0               8  default raking algo\n",
       "1          1               5  default raking algo\n",
       "2          2              22  default raking algo\n",
       "3          3              19  default raking algo\n",
       "4          4               1  default raking algo\n",
       "..       ...             ...                  ...\n",
       "995      995              29     new ranking algo\n",
       "996      996              11     new ranking algo\n",
       "997      997               3     new ranking algo\n",
       "998      998               2     new ranking algo\n",
       "999      999              12     new ranking algo\n",
       "\n",
       "[1000 rows x 3 columns]"
      ]
     },
     "execution_count": 449,
     "metadata": {},
     "output_type": "execute_result"
    }
   ],
   "source": [
    "df"
   ]
  },
  {
   "cell_type": "code",
   "execution_count": 450,
   "metadata": {},
   "outputs": [],
   "source": [
    "df.loc[df['version'] == 'default raking algo', 'version'] = 'default ranking algo'"
   ]
  },
  {
   "cell_type": "code",
   "execution_count": 451,
   "metadata": {},
   "outputs": [],
   "source": [
    "df = df.drop_duplicates().reset_index(drop=True)"
   ]
  },
  {
   "cell_type": "code",
   "execution_count": 452,
   "metadata": {},
   "outputs": [],
   "source": [
    "df.replace(to_replace=['?', 'na','',' ','none','NA','N/A','n/a'], value=pd.NA, inplace=True)"
   ]
  },
  {
   "cell_type": "code",
   "execution_count": 453,
   "metadata": {},
   "outputs": [
    {
     "data": {
      "text/plain": [
       "user_id           0\n",
       "page_stay_time    0\n",
       "version           0\n",
       "dtype: int64"
      ]
     },
     "execution_count": 453,
     "metadata": {},
     "output_type": "execute_result"
    }
   ],
   "source": [
    "df.isna().sum()"
   ]
  },
  {
   "cell_type": "code",
   "execution_count": 454,
   "metadata": {},
   "outputs": [
    {
     "name": "stdout",
     "output_type": "stream",
     "text": [
      "T-statistic: -0.588271685867135\n",
      "P-value: 0.5564835484911033\n",
      "Fail to reject the null hypothesis: There is no significant difference in the average page stay time between the old and new ranking strategies.\n"
     ]
    }
   ],
   "source": [
    "df['version'].value_counts(normalize=True)\n",
    "\n",
    "df['page_stay_time'].value_counts(normalize=True)\n",
    "\n",
    "old_strategy = df[df['version'] == 'default ranking algo']['page_stay_time']\n",
    "\n",
    "new_strategy = df[df['version'] == 'new ranking algo']['page_stay_time']\n",
    "\n",
    "t_statistic, p_value = ttest_ind(old_strategy, new_strategy,equal_var=False, alternative='two-sided')\n",
    "\n",
    "print(\"T-statistic:\", t_statistic)\n",
    "\n",
    "print(\"P-value:\", p_value)\n",
    "\n",
    "alpha = 0.05\n",
    "\n",
    "if p_value >= alpha:\n",
    "    print(\"Fail to reject the null hypothesis: There is no significant difference in the average page stay time between the old and new ranking strategies.\")\n",
    "else:\n",
    "    print(\"Reject the null hypothesis: There is a significant difference in the average page stay time between the old and new ranking strategies.\")"
   ]
  },
  {
   "cell_type": "raw",
   "metadata": {},
   "source": [
    "Null Hypothesis (H0): μ_old = μ_new\n",
    "(The average page stay time of the customers for the old ranking strategy is equal to the average page stay time for the new ranking strategy)\n",
    "\n",
    "Alternative Hypothesis (H1): μ_old ≠ μ_new\n",
    "(There is a significant difference between the average page stay time of the customers for the old and new ranking strategies)"
   ]
  },
  {
   "cell_type": "code",
   "execution_count": 455,
   "metadata": {},
   "outputs": [
    {
     "name": "stdout",
     "output_type": "stream",
     "text": [
      "Fail to reject the null hypothesis: There is no significant difference in the average page stay time between the old and new ranking strategies.\n"
     ]
    }
   ],
   "source": [
    "if p_value >= alpha:\n",
    "    print(\"Fail to reject the null hypothesis: There is no significant difference in the average page stay time between the old and new ranking strategies.\")\n",
    "else:\n",
    "    print(\"Reject the null hypothesis: There is a significant difference in the average page stay time between the old and new ranking strategies.\")"
   ]
  },
  {
   "cell_type": "raw",
   "metadata": {},
   "source": [
    "p-value as calculated 0.5564835484911033 is greater than alpha 0.05 so we fail to reject the null hypothesis that there is a significant difference in the average page stay time between the old and new ranking strategies."
   ]
  },
  {
   "cell_type": "code",
   "execution_count": null,
   "metadata": {},
   "outputs": [],
   "source": []
  }
 ],
 "metadata": {
  "colab": {
   "provenance": []
  },
  "kernelspec": {
   "display_name": "Python 3 (ipykernel)",
   "language": "python",
   "name": "python3"
  },
  "language_info": {
   "codemirror_mode": {
    "name": "ipython",
    "version": 3
   },
   "file_extension": ".py",
   "mimetype": "text/x-python",
   "name": "python",
   "nbconvert_exporter": "python",
   "pygments_lexer": "ipython3",
   "version": "3.11.5"
  }
 },
 "nbformat": 4,
 "nbformat_minor": 1
}
