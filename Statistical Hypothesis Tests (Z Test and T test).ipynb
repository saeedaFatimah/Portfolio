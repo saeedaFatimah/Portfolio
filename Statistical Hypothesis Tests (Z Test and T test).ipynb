{
 "cells": [
  {
   "cell_type": "markdown",
   "metadata": {
    "id": "zMzCW1BrTlcU"
   },
   "source": [
    "General Instructions\n",
    "=====================\n",
    "\n",
    "Use scipy.stats.norm.cdf and scipy.stats.norm.ppf where required\n"
   ]
  },
  {
   "cell_type": "code",
   "execution_count": 2,
   "metadata": {
    "id": "wRJi18wQdrHS"
   },
   "outputs": [],
   "source": [
    "import pandas as pd\n",
    "import numpy as np\n",
    "import scipy.stats as st\n",
    "import matplotlib.pyplot as plt\n",
    "import seaborn as sns\n",
    "import random\n",
    "from scipy.stats import t\n",
    "from scipy import stats\n",
    "from scipy.stats import norm"
   ]
  },
  {
   "cell_type": "markdown",
   "metadata": {
    "id": "QqJglfMIcf8c"
   },
   "source": [
    "# Question # 1\n",
    "You want to rent an unfurnished one-bedroom apartment in Karachi. The mean monthly rent for a random sample of 60 apartments advertised on Zameen.com list is 1000 dollars. Assume sample standard deviation of 200 dollars. Construct  \n",
    "1. 85% confidence interval.\n",
    "2. 90% confidence interval.\n",
    "3. 95% confidence interval.\n",
    "\n",
    "How does confidence intervals change as we move from (85% to 95%)? (Write your answer in plain english)\n",
    "\n",
    "Hints\n",
    "====\n",
    "\n",
    "1.Formula to find confidence intervals\n",
    "\n",
    "![image.png](data:image/png;base64,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)\n",
    "\n",
    "2. To find the Z value(for 95% confidence interval) you can use Python (scipy.stats.norm.ppf)\n"
   ]
  },
  {
   "cell_type": "code",
   "execution_count": 3,
   "metadata": {
    "id": "GHtSFaMLYtgH"
   },
   "outputs": [
    {
     "name": "stdout",
     "output_type": "stream",
     "text": [
      "85% Confidence Interval: (973.2394049535817, 1026.7605950464183)\n",
      "90% Confidence Interval: (966.9104808622648, 1033.0895191377351)\n",
      "95% Confidence Interval: (957.5300619724538, 1042.469938027546)\n"
     ]
    }
   ],
   "source": [
    "mean = 1000\n",
    "standard_deviation = 200\n",
    "n = 60\n",
    "\n",
    "confidence_interval_85 = (mean - norm.ppf(0.85) * (standard_deviation / np.sqrt(n)), mean + norm.ppf(0.85) * (standard_deviation / np.sqrt(n)))\n",
    "confidence_interval_90 = (mean - norm.ppf(0.90) * (standard_deviation / np.sqrt(n)), mean + norm.ppf(0.90) * (standard_deviation / np.sqrt(n)))\n",
    "confidence_interval_95 = (mean - norm.ppf(0.95) * (standard_deviation / np.sqrt(n)), mean + norm.ppf(0.95) * (standard_deviation / np.sqrt(n)))\n",
    "\n",
    "print(\"85% Confidence Interval:\", confidence_interval_85)\n",
    "print(\"90% Confidence Interval:\", confidence_interval_90)\n",
    "print(\"95% Confidence Interval:\", confidence_interval_95)"
   ]
  },
  {
   "cell_type": "code",
   "execution_count": 9,
   "metadata": {},
   "outputs": [
    {
     "data": {
      "image/png": "[encoded data removed]",
      "text/plain": [
       "<Figure size 1000x600 with 1 Axes>"
      ]
     },
     "metadata": {},
     "output_type": "display_data"
    }
   ],
   "source": [
    "z_scores = [norm.ppf(0.85), norm.ppf(0.90), norm.ppf(0.95)]\n",
    "conf_intervals = [(mean - z * (standard_deviation / np.sqrt(n)), mean + z * (standard_deviation / np.sqrt(n))) for z in z_scores]\n",
    "\n",
    "plt.figure(figsize=(10, 6))\n",
    "plt.errorbar([1, 2, 3], [mean] * 3, yerr=[[mean - interval[0] for interval in conf_intervals], [interval[1] - mean for interval in conf_intervals]], fmt='o')\n",
    "plt.xticks([1, 2, 3], ['85%', '90%', '95%'])\n",
    "plt.ylabel('Mean')\n",
    "plt.title('Confidence Intervals for Different Confidence Levels')\n",
    "plt.show()"
   ]
  },
  {
   "cell_type": "raw",
   "metadata": {},
   "source": [
    "###data viz is not a part of answer right?  kindly dont say that this plot/graph is not suitable for this question etc"
   ]
  },
  {
   "cell_type": "raw",
   "metadata": {},
   "source": [
    "When we go from 85% to 95% confidence, we make the guess range bigger. It's like saying we're more sure now, so we need to consider more possibilities. When we increase the confidence level from 85% to 95%, the range of values we consider for the true value gets bigger. This is because we want to be more confident that the true value is within our range, so we expand the interval to include more possibilities."
   ]
  },
  {
   "cell_type": "markdown",
   "metadata": {
    "id": "fppqC_p_dTdq"
   },
   "source": [
    "#Question # 2\n",
    "=============\n",
    "\n",
    "Suppose you are working as a Data Scientist at Bykea. It is known historically that the average Customer Lifetime Value (CLV) is Rs 22 with a standard deviation of 4. You took a random sample of 40 customers and found out the average CLV to be Rs 23. Is there enough evidence to conclude that the average CLV of the population has changed?\n",
    "\n",
    "Hint\n",
    "====\n",
    "Use t test\n",
    "fro scipy.stats import t\n",
    "1. t.cdf()\n",
    "2. t.ppf()\n",
    "\n",
    "\n",
    "Focus on the word \"changed\" is it a one sided or two sided test?"
   ]
  },
  {
   "cell_type": "code",
   "execution_count": 14,
   "metadata": {
    "id": "KKr4ezFTdVFg"
   },
   "outputs": [
    {
     "name": "stdout",
     "output_type": "stream",
     "text": [
      "Fail to reject the null hypothesis: There is no convincing evidence to conclude that the average CLV of the population has changed.\n"
     ]
    }
   ],
   "source": [
    "Population_Mean = 22\n",
    "Population_Std = 4\n",
    "Sample_Size = 40\n",
    "Sample_Mean = 23\n",
    "\n",
    "Standard_Error = Population_Std / np.sqrt(Sample_Size)\n",
    "\n",
    "t_stat = (Sample_Mean - Population_Mean) / Standard_Error\n",
    "df = Sample_Size - 1\n",
    "p_value = 2 * (1 - t.cdf(abs(t_stat), df))\n",
    "\n",
    "Significance_Level = 0.05\n",
    "\n",
    "# Null hypothesis: The average Customer Lifetime Value (CLV) of the population has not changed\n",
    "# Alternative hypothesis: The average CLV of the population has changed\n",
    "\n",
    "if p_value >= Significance_Level:\n",
    "    print(\"Fail to reject the null hypothesis: There is no convincing evidence to conclude that the average CLV of the population has changed.\")\n",
    "else:\n",
    "    print(\"Reject the null hypothesis: There is enough evidence to conclude that the average CLV of the population has changed.\")\n"
   ]
  },
  {
   "cell_type": "markdown",
   "metadata": {
    "id": "W3bDqTf9XA_b"
   },
   "source": [
    "#Question # 3\n",
    "===============\n",
    "\n"
   ]
  },
  {
   "cell_type": "markdown",
   "metadata": {
    "id": "ioAN2SFPXIcF"
   },
   "source": [
    "Suppose you are work as a freelance Data Scientist. A client approach to you who has A B2B SAAS product (offering business intelligence solutuons to companies). He is of the view that the average CAC (Cost to acquire a customer) of his platform is 150 dollars. He gave you a data of 250 random customers with the mean of CAC = 145 and sample standard deviation of 35. Does the data provide covincing evidence to prove that average CAC of his platform is less than his claim? (use significance level = 0.05)\n",
    "\n",
    "\n",
    "### Use t test"
   ]
  },
  {
   "cell_type": "code",
   "execution_count": 15,
   "metadata": {},
   "outputs": [
    {
     "name": "stdout",
     "output_type": "stream",
     "text": [
      "Reject null hypothesis: There is evidence to conclude that the average cost to acquire a customer is less than $150.\n"
     ]
    }
   ],
   "source": [
    "Mean_Cac_Sample = 145\n",
    "sample_size = 250\n",
    "MeanCacPopulation = 150\n",
    "std_dev_sample = 35\n",
    "\n",
    "significance_level = 0.05\n",
    "\n",
    "# Null hypothesis: The average cost to acquire a customer of the platform is greater than or equal to $150\n",
    "# Alternative hypothesis: The average cost to acquire a customer of the platform is less than $150\n",
    "\n",
    "standard_error = std_dev_sample / np.sqrt(sample_size)\n",
    "\n",
    "t_stat = (Mean_Cac_Sample - MeanCacPopulation) / standard_error\n",
    "\n",
    "df = sample_size - 1\n",
    "\n",
    "p_value = t.cdf(t_stat, df)\n",
    "\n",
    "if p_value >= significance_level:\n",
    "    print(\"Fail to reject null hypothesis: There is not enough evidence to conclude that the average cost to acquire a customer is less than $150.\")\n",
    "else:\n",
    "    print(\"Reject null hypothesis: There is evidence to conclude that the average cost to acquire a customer is less than $150.\")\n"
   ]
  },
  {
   "cell_type": "markdown",
   "metadata": {
    "id": "XKvjGKPhObpr"
   },
   "source": [
    "# Question # 4\n",
    "===============\n",
    "\n",
    "A university claims that the average height of their students is 167 cm. You are given a sample of 300 students. Does the sample provide an evidence that the average height of the students is greater than 167 cm? Use signifcance level = 0.1\n",
    "\n",
    "## Use t test"
   ]
  },
  {
   "cell_type": "code",
   "execution_count": 16,
   "metadata": {
    "id": "7dMNLr9tRQSM"
   },
   "outputs": [
    {
     "name": "stdout",
     "output_type": "stream",
     "text": [
      "Fail to reject the null hypothesis: There is not enough evidence that the average height of the students is greater than 167cm.\n"
     ]
    }
   ],
   "source": [
    "# The data is loaded for you here\n",
    "# Don't change anything in this cell\n",
    "df = pd.read_csv(\"https://raw.githubusercontent.com/usmanabbas7/karachi.ai/main/students.csv\", nrows=300)\n",
    "\n",
    "claimedMeanHeight = 167\n",
    "sampleSize = 300\n",
    "sampleMeanHeight = df['height'].mean()\n",
    "sampleStdDev = df['height'].std()\n",
    "\n",
    "significanceLevel = 0.1\n",
    "\n",
    "# Null hypothesis: The average height of the students is less than or equal to 167 cm\n",
    "# Alternative hypothesis: The average height of the students is greater than 167 cm\n",
    "\n",
    "standardError = sampleStdDev / np.sqrt(sampleSize)\n",
    "\n",
    "t_stat = (sampleMeanHeight - claimedMeanHeight) / standardError\n",
    "df = sampleSize - 1\n",
    "\n",
    "p_value = t.cdf(t_stat, df)\n",
    "\n",
    "if p_value >= significanceLevel:\n",
    "    print(\"Fail to reject the null hypothesis: There is not enough evidence that the average height of the students is greater than 167cm.\")\n",
    "else:\n",
    "    print(\"Reject the null hypothesis: There is evidence that the average height of the students is greater than 167cm.\")\n"
   ]
  },
  {
   "cell_type": "code",
   "execution_count": null,
   "metadata": {},
   "outputs": [],
   "source": []
  },
  {
   "cell_type": "code",
   "execution_count": null,
   "metadata": {},
   "outputs": [],
   "source": []
  }
 ],
 "metadata": {
  "colab": {
   "provenance": []
  },
  "kernelspec": {
   "display_name": "Python 3 (ipykernel)",
   "language": "python",
   "name": "python3"
  },
  "language_info": {
   "codemirror_mode": {
    "name": "ipython",
    "version": 3
   },
   "file_extension": ".py",
   "mimetype": "text/x-python",
   "name": "python",
   "nbconvert_exporter": "python",
   "pygments_lexer": "ipython3",
   "version": "3.11.5"
  }
 },
 "nbformat": 4,
 "nbformat_minor": 1
}
