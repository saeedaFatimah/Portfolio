{
 "cells": [
  {
   "cell_type": "markdown",
   "metadata": {
    "id": "jnaUBXiD90TP"
   },
   "source": [
    "# Analyzing Hubway Trips in SQL"
   ]
  },
  {
   "cell_type": "code",
   "execution_count": 38,
   "metadata": {
    "colab": {
     "base_uri": "https://localhost:8080/"
    },
    "executionInfo": {
     "elapsed": 6503,
     "status": "ok",
     "timestamp": 1696084374181,
     "user": {
      "displayName": "Mesum Raza Hemani",
      "userId": "02137032281712867702"
     },
     "user_tz": -300
    },
    "id": "HAeLs-2TADoE",
    "outputId": "2bdc0663-9d81-4248-ed7e-793bcd8579da"
   },
   "outputs": [
    {
     "name": "stdout",
     "output_type": "stream",
     "text": [
      "Defaulting to user installation because normal site-packages is not writeable\n",
      "Requirement already satisfied: ipython-sql in c:\\users\\saeed\\appdata\\roaming\\python\\python311\\site-packages (0.5.0)\n",
      "Requirement already satisfied: prettytable in c:\\users\\saeed\\appdata\\roaming\\python\\python311\\site-packages (from ipython-sql) (3.10.0)\n",
      "Requirement already satisfied: ipython in c:\\programdata\\anaconda3\\lib\\site-packages (from ipython-sql) (8.15.0)\n",
      "Requirement already satisfied: sqlalchemy>=2.0 in c:\\users\\saeed\\appdata\\roaming\\python\\python311\\site-packages (from ipython-sql) (2.0.29)\n",
      "Requirement already satisfied: sqlparse in c:\\users\\saeed\\appdata\\roaming\\python\\python311\\site-packages (from ipython-sql) (0.5.0)\n",
      "Requirement already satisfied: six in c:\\programdata\\anaconda3\\lib\\site-packages (from ipython-sql) (1.16.0)\n",
      "Requirement already satisfied: ipython-genutils in c:\\programdata\\anaconda3\\lib\\site-packages (from ipython-sql) (0.2.0)\n",
      "Requirement already satisfied: typing-extensions>=4.6.0 in c:\\programdata\\anaconda3\\lib\\site-packages (from sqlalchemy>=2.0->ipython-sql) (4.7.1)\n",
      "Requirement already satisfied: greenlet!=0.4.17 in c:\\programdata\\anaconda3\\lib\\site-packages (from sqlalchemy>=2.0->ipython-sql) (2.0.1)\n",
      "Requirement already satisfied: backcall in c:\\programdata\\anaconda3\\lib\\site-packages (from ipython->ipython-sql) (0.2.0)\n",
      "Requirement already satisfied: decorator in c:\\programdata\\anaconda3\\lib\\site-packages (from ipython->ipython-sql) (5.1.1)\n",
      "Requirement already satisfied: jedi>=0.16 in c:\\programdata\\anaconda3\\lib\\site-packages (from ipython->ipython-sql) (0.18.1)\n",
      "Requirement already satisfied: matplotlib-inline in c:\\programdata\\anaconda3\\lib\\site-packages (from ipython->ipython-sql) (0.1.6)\n",
      "Requirement already satisfied: pickleshare in c:\\programdata\\anaconda3\\lib\\site-packages (from ipython->ipython-sql) (0.7.5)\n",
      "Requirement already satisfied: prompt-toolkit!=3.0.37,<3.1.0,>=3.0.30 in c:\\programdata\\anaconda3\\lib\\site-packages (from ipython->ipython-sql) (3.0.36)\n",
      "Requirement already satisfied: pygments>=2.4.0 in c:\\programdata\\anaconda3\\lib\\site-packages (from ipython->ipython-sql) (2.15.1)\n",
      "Requirement already satisfied: stack-data in c:\\programdata\\anaconda3\\lib\\site-packages (from ipython->ipython-sql) (0.2.0)\n",
      "Requirement already satisfied: traitlets>=5 in c:\\programdata\\anaconda3\\lib\\site-packages (from ipython->ipython-sql) (5.7.1)\n",
      "Requirement already satisfied: colorama in c:\\programdata\\anaconda3\\lib\\site-packages (from ipython->ipython-sql) (0.4.6)\n",
      "Requirement already satisfied: wcwidth in c:\\programdata\\anaconda3\\lib\\site-packages (from prettytable->ipython-sql) (0.2.5)\n",
      "Requirement already satisfied: parso<0.9.0,>=0.8.0 in c:\\programdata\\anaconda3\\lib\\site-packages (from jedi>=0.16->ipython->ipython-sql) (0.8.3)\n",
      "Requirement already satisfied: executing in c:\\programdata\\anaconda3\\lib\\site-packages (from stack-data->ipython->ipython-sql) (0.8.3)\n",
      "Requirement already satisfied: asttokens in c:\\programdata\\anaconda3\\lib\\site-packages (from stack-data->ipython->ipython-sql) (2.0.5)\n",
      "Requirement already satisfied: pure-eval in c:\\programdata\\anaconda3\\lib\\site-packages (from stack-data->ipython->ipython-sql) (0.2.2)\n"
     ]
    }
   ],
   "source": [
    "#You will have to install ipython-sql using the following command:\n",
    "\n",
    "!pip install ipython-sql --upgrade\n",
    "\n",
    "#Just Execute the cell and it will install"
   ]
  },
  {
   "cell_type": "code",
   "execution_count": 39,
   "metadata": {
    "execution": {
     "iopub.execute_input": "2020-10-21T08:48:37.270Z",
     "iopub.status.busy": "2020-10-21T08:48:37.251Z",
     "iopub.status.idle": "2020-10-21T08:48:37.303Z",
     "shell.execute_reply": "2020-10-21T08:48:37.320Z"
    },
    "executionInfo": {
     "elapsed": 544,
     "status": "ok",
     "timestamp": 1713248442602,
     "user": {
      "displayName": "Mesum Raza Hemani",
      "userId": "02137032281712867702"
     },
     "user_tz": -300
    },
    "id": "sy4EsMOH90TR"
   },
   "outputs": [],
   "source": [
    "# If your file is in another Directory (Without Space in Name of Directory) : %sql sqlite:///Hello/Another_Folder/hubway_small_ok.db\n",
    "\n",
    "# If your file is in Same Directory : %sql sqlite:///hubway_small_ok.db\n",
    "\n",
    "%reload_ext sql\n",
    "%sql sqlite:///hubway.db\n",
    "%config SqlMagic.autocommit=False"
   ]
  },
  {
   "cell_type": "markdown",
   "metadata": {
    "id": "I84hmu-B90TV"
   },
   "source": [
    "**Please write your queries below in the empty boxes same as you write in a SQL Window**\n",
    "\n",
    "Just append **%sql** before your query like this '%sql Select * from Trips limit 5;'"
   ]
  },
  {
   "cell_type": "code",
   "execution_count": 40,
   "metadata": {
    "colab": {
     "base_uri": "https://localhost:8080/",
     "height": 118
    },
    "execution": {
     "iopub.execute_input": "2020-10-21T09:36:52.747Z",
     "iopub.status.busy": "2020-10-21T09:36:52.736Z",
     "iopub.status.idle": "2020-10-21T09:36:52.784Z",
     "shell.execute_reply": "2020-10-21T09:36:52.796Z"
    },
    "executionInfo": {
     "elapsed": 10,
     "status": "ok",
     "timestamp": 1713248444207,
     "user": {
      "displayName": "Mesum Raza Hemani",
      "userId": "02137032281712867702"
     },
     "user_tz": -300
    },
    "id": "3EQywREo90TW",
    "outputId": "87626e3e-c386-449c-863f-8364c72d24ea"
   },
   "outputs": [
    {
     "name": "stdout",
     "output_type": "stream",
     "text": [
      " * sqlite:///hubway.db\n",
      "Done.\n"
     ]
    },
    {
     "data": {
      "text/html": [
       "<table>\n",
       "    <thead>\n",
       "        <tr>\n",
       "            <th>id</th>\n",
       "            <th>duration</th>\n",
       "            <th>start_date</th>\n",
       "            <th>start_station</th>\n",
       "            <th>end_date</th>\n",
       "            <th>end_station</th>\n",
       "            <th>bike_number</th>\n",
       "            <th>sub_type</th>\n",
       "            <th>zip_code</th>\n",
       "            <th>birth_date</th>\n",
       "            <th>gender</th>\n",
       "        </tr>\n",
       "    </thead>\n",
       "    <tbody>\n",
       "        <tr>\n",
       "            <td>1</td>\n",
       "            <td>9</td>\n",
       "            <td>2011-07-28 10:12:00</td>\n",
       "            <td>23</td>\n",
       "            <td>2011-07-28 10:12:00</td>\n",
       "            <td>23</td>\n",
       "            <td>B00468</td>\n",
       "            <td>Registered</td>\n",
       "            <td>&#x27;97217</td>\n",
       "            <td>1976.0</td>\n",
       "            <td>Male</td>\n",
       "        </tr>\n",
       "        <tr>\n",
       "            <td>2</td>\n",
       "            <td>220</td>\n",
       "            <td>2011-07-28 10:21:00</td>\n",
       "            <td>23</td>\n",
       "            <td>2011-07-28 10:25:00</td>\n",
       "            <td>23</td>\n",
       "            <td>B00554</td>\n",
       "            <td>Registered</td>\n",
       "            <td>&#x27;02215</td>\n",
       "            <td>1966.0</td>\n",
       "            <td>Male</td>\n",
       "        </tr>\n",
       "    </tbody>\n",
       "</table>"
      ],
      "text/plain": [
       "[(1, 9, '2011-07-28 10:12:00', 23, '2011-07-28 10:12:00', 23, 'B00468', 'Registered', \"'97217\", 1976.0, 'Male'),\n",
       " (2, 220, '2011-07-28 10:21:00', 23, '2011-07-28 10:25:00', 23, 'B00554', 'Registered', \"'02215\", 1966.0, 'Male')]"
      ]
     },
     "execution_count": 40,
     "metadata": {},
     "output_type": "execute_result"
    }
   ],
   "source": [
    "%%sql\n",
    "\n",
    "Select * from Trips limit 2"
   ]
  },
  {
   "cell_type": "markdown",
   "metadata": {
    "id": "VjnOTBKt90Ta"
   },
   "source": [
    "**About the Dataset and Schema**\n",
    "\n",
    "The database has two tables, trips and stations. To begin with, we'll look at the trips table. It contains the following columns:\n",
    "\n",
    "\n",
    "**Trips:**\n",
    "\n",
    "id — A unique integer that serves as a reference for each trip\n",
    "\n",
    "duration — The duration of the trip, measured in seconds\n",
    "\n",
    "start_date — The date and time the trip began\n",
    "\n",
    "start_station — An integer that corresponds to the id column in the stations table for the station the trip started at\n",
    "\n",
    "end_date — The date and time the trip ended\n",
    "\n",
    "end_station — The 'id' of the station the trip ended at\n",
    "\n",
    "bike_number — Hubway's unique identifier for the bike used on the trip\n",
    "\n",
    "sub_type — The subscription type of the user. \"Registered\" for users with a membership, \"Casual\" for users without a membership\n",
    "\n",
    "zip_code — The zip code of the user (only available for registered members)\n",
    "\n",
    "birth_date — The birth year of the user (only available for registered members)\n",
    "\n",
    "gender — The gender of the user (only available for registered members)\n",
    "\n",
    "\n",
    "**Station:**\n",
    "\n",
    "\n",
    "id — A unique identifier for each station (corresponds to the start_station and end_station columns in the trips table)\n",
    "\n",
    "station — The station name\n",
    "\n",
    "municipality — The municipality that the station is in (Boston, Brookline, Cambridge or Somerville)\n",
    "\n",
    "lat — The latitude of the station\n",
    "\n",
    "lng — The longitude of the station"
   ]
  },
  {
   "cell_type": "markdown",
   "metadata": {
    "id": "hKDibiAy90Tb"
   },
   "source": [
    "## Analytical Questions Test in SQL"
   ]
  },
  {
   "cell_type": "markdown",
   "metadata": {
    "id": "CwBUDLCf90Tc"
   },
   "source": [
    "Q1. What was the duration of the longest trip? What was the average trip duration? What was the smallest trip duration?"
   ]
  },
  {
   "cell_type": "code",
   "execution_count": 41,
   "metadata": {
    "colab": {
     "base_uri": "https://localhost:8080/",
     "height": 98
    },
    "executionInfo": {
     "elapsed": 509,
     "status": "ok",
     "timestamp": 1696084540755,
     "user": {
      "displayName": "Mesum Raza Hemani",
      "userId": "02137032281712867702"
     },
     "user_tz": -300
    },
    "id": "OW5Sd0Ri90Tc",
    "outputId": "231b75fa-f9cc-4c4b-ca2a-470ade718db9"
   },
   "outputs": [
    {
     "name": "stdout",
     "output_type": "stream",
     "text": [
      " * sqlite:///hubway.db\n",
      "Done.\n"
     ]
    },
    {
     "data": {
      "text/html": [
       "<table>\n",
       "    <thead>\n",
       "        <tr>\n",
       "            <th>smallest_trip</th>\n",
       "            <th>longest_trip</th>\n",
       "            <th>Average_trip</th>\n",
       "        </tr>\n",
       "    </thead>\n",
       "    <tbody>\n",
       "        <tr>\n",
       "            <td>0</td>\n",
       "            <td>9999</td>\n",
       "            <td>912.4096819046612</td>\n",
       "        </tr>\n",
       "    </tbody>\n",
       "</table>"
      ],
      "text/plain": [
       "[(0, 9999, 912.4096819046612)]"
      ]
     },
     "execution_count": 41,
     "metadata": {},
     "output_type": "execute_result"
    }
   ],
   "source": [
    "\n",
    "%%sql\n",
    "\n",
    "Select min(duration) smallest_trip ,max(duration) longest_trip ,avg(duration) Average_trip  from trips"
   ]
  },
  {
   "cell_type": "markdown",
   "metadata": {
    "id": "1eK00otH90Tg"
   },
   "source": [
    "Q2. How many trips were taken by 'Registered' users?\n",
    "\n",
    "Hint: Use Sub Type to Filter by Where"
   ]
  },
  {
   "cell_type": "code",
   "execution_count": 42,
   "metadata": {
    "id": "fDtqSAsl90Tg",
    "outputId": "5cb23c31-48b4-4da6-908c-b7b26fad2955"
   },
   "outputs": [
    {
     "name": "stdout",
     "output_type": "stream",
     "text": [
      " * sqlite:///hubway.db\n",
      "Done.\n"
     ]
    },
    {
     "data": {
      "text/html": [
       "<table>\n",
       "    <thead>\n",
       "        <tr>\n",
       "            <th>registered_trips_count</th>\n",
       "        </tr>\n",
       "    </thead>\n",
       "    <tbody>\n",
       "        <tr>\n",
       "            <td>1105192</td>\n",
       "        </tr>\n",
       "    </tbody>\n",
       "</table>"
      ],
      "text/plain": [
       "[(1105192,)]"
      ]
     },
     "execution_count": 42,
     "metadata": {},
     "output_type": "execute_result"
    }
   ],
   "source": [
    "%%sql\n",
    "\n",
    "SELECT COUNT(*) AS registered_trips_count\n",
    "FROM trips\n",
    "WHERE sub_type = 'Registered';"
   ]
  },
  {
   "cell_type": "markdown",
   "metadata": {
    "id": "RiYQ1YmB90Tk"
   },
   "source": [
    "Q3. How many trips were taken by male users in comparison to Female users? for Registered users only\n",
    "\n",
    "Hint: Group By Gender and Calculate Count"
   ]
  },
  {
   "cell_type": "code",
   "execution_count": 43,
   "metadata": {
    "id": "P8KHXkUM90Tl"
   },
   "outputs": [
    {
     "name": "stdout",
     "output_type": "stream",
     "text": [
      " * sqlite:///hubway.db\n",
      "Done.\n"
     ]
    },
    {
     "data": {
      "text/html": [
       "<table>\n",
       "    <thead>\n",
       "        <tr>\n",
       "            <th>gender</th>\n",
       "            <th>trip_count</th>\n",
       "        </tr>\n",
       "    </thead>\n",
       "    <tbody>\n",
       "        <tr>\n",
       "            <td>Female</td>\n",
       "            <td>271333</td>\n",
       "        </tr>\n",
       "        <tr>\n",
       "            <td>Female<br></td>\n",
       "            <td>1</td>\n",
       "        </tr>\n",
       "        <tr>\n",
       "            <td>Male</td>\n",
       "            <td>833858</td>\n",
       "        </tr>\n",
       "    </tbody>\n",
       "</table>"
      ],
      "text/plain": [
       "[('Female', 271333), ('Female\\n', 1), ('Male', 833858)]"
      ]
     },
     "execution_count": 43,
     "metadata": {},
     "output_type": "execute_result"
    }
   ],
   "source": [
    "%%sql\n",
    "\n",
    "SELECT gender, COUNT(*) AS trip_count\n",
    "FROM trips\n",
    "WHERE sub_type = 'Registered'\n",
    "GROUP BY gender;"
   ]
  },
  {
   "cell_type": "markdown",
   "metadata": {
    "id": "TUYa6eNh90Tq"
   },
   "source": [
    "Q4. Do registered or casual users take longer trips?\n",
    "\n",
    "Hint: Group By Sub Type and Calculate Average"
   ]
  },
  {
   "cell_type": "code",
   "execution_count": 44,
   "metadata": {
    "id": "ZZ7VJRul90Tq"
   },
   "outputs": [
    {
     "name": "stdout",
     "output_type": "stream",
     "text": [
      " * sqlite:///hubway.db\n",
      "Done.\n"
     ]
    },
    {
     "data": {
      "text/html": [
       "<table>\n",
       "    <thead>\n",
       "        <tr>\n",
       "            <th>sub_type</th>\n",
       "            <th>avg_trip_duration</th>\n",
       "        </tr>\n",
       "    </thead>\n",
       "    <tbody>\n",
       "        <tr>\n",
       "            <td>Casual</td>\n",
       "            <td>1519.6438967403815</td>\n",
       "        </tr>\n",
       "        <tr>\n",
       "            <td>Registered</td>\n",
       "            <td>657.0260669639302</td>\n",
       "        </tr>\n",
       "    </tbody>\n",
       "</table>"
      ],
      "text/plain": [
       "[('Casual', 1519.6438967403815), ('Registered', 657.0260669639302)]"
      ]
     },
     "execution_count": 44,
     "metadata": {},
     "output_type": "execute_result"
    }
   ],
   "source": [
    "%%sql\n",
    "SELECT sub_type, AVG(duration) AS avg_trip_duration\n",
    "FROM trips\n",
    "GROUP BY sub_type;"
   ]
  },
  {
   "cell_type": "markdown",
   "metadata": {
    "id": "hv9m6dsv90Tu"
   },
   "source": [
    "Q5. Which bike was used for the most trips?\n",
    "\n",
    "Hint : Use Bike Number and Limit Results to 1"
   ]
  },
  {
   "cell_type": "code",
   "execution_count": 45,
   "metadata": {
    "id": "8LIAd_iv90Tv"
   },
   "outputs": [
    {
     "name": "stdout",
     "output_type": "stream",
     "text": [
      " * sqlite:///hubway.db\n",
      "Done.\n"
     ]
    },
    {
     "data": {
      "text/html": [
       "<table>\n",
       "    <thead>\n",
       "        <tr>\n",
       "            <th>bike_number</th>\n",
       "            <th>trip_count</th>\n",
       "        </tr>\n",
       "    </thead>\n",
       "    <tbody>\n",
       "        <tr>\n",
       "            <td>B00490</td>\n",
       "            <td>2120</td>\n",
       "        </tr>\n",
       "    </tbody>\n",
       "</table>"
      ],
      "text/plain": [
       "[('B00490', 2120)]"
      ]
     },
     "execution_count": 45,
     "metadata": {},
     "output_type": "execute_result"
    }
   ],
   "source": [
    "%%sql\n",
    "SELECT bike_number, COUNT(*) AS trip_count\n",
    "FROM trips\n",
    "GROUP BY bike_number\n",
    "ORDER BY trip_count DESC\n",
    "LIMIT 1;"
   ]
  },
  {
   "cell_type": "markdown",
   "metadata": {
    "id": "cf3TVN2C90Tx"
   },
   "source": [
    "Q6. What is the average duration of trips by users over the age of 30?\n",
    "\n",
    "Hint : DoB is already in years and use Airthmetic operator to caluculate Age like (2021-DOB)\n",
    "\n",
    "Link : #GETTING AGE IN SQLLITE : https://stackoverflow.com/questions/49929953/how-to-calculate-approximate-age-based-on-birth-year"
   ]
  },
  {
   "cell_type": "code",
   "execution_count": 46,
   "metadata": {
    "id": "BmVwA2Lm90Ty"
   },
   "outputs": [
    {
     "name": "stdout",
     "output_type": "stream",
     "text": [
      " * sqlite:///hubway.db\n",
      "Done.\n"
     ]
    },
    {
     "data": {
      "text/html": [
       "<table>\n",
       "    <thead>\n",
       "        <tr>\n",
       "            <th>avg_duration_over_30</th>\n",
       "        </tr>\n",
       "    </thead>\n",
       "    <tbody>\n",
       "        <tr>\n",
       "            <td>657.7647710963483</td>\n",
       "        </tr>\n",
       "    </tbody>\n",
       "</table>"
      ],
      "text/plain": [
       "[(657.7647710963483,)]"
      ]
     },
     "execution_count": 46,
     "metadata": {},
     "output_type": "execute_result"
    }
   ],
   "source": [
    "%%sql\n",
    "SELECT AVG(duration) AS avg_duration_over_30\n",
    "FROM trips\n",
    "WHERE strftime('%Y', 'now') - birth_date > 30;"
   ]
  },
  {
   "cell_type": "markdown",
   "metadata": {
    "id": "ucw8rEnY90T0"
   },
   "source": [
    "Q7. Which stations are most frequently used for round trips?\n",
    "\n",
    "Hint: Round trip is considered as where Start and Stop Stations are same. Limit to top 5 Stations"
   ]
  },
  {
   "cell_type": "code",
   "execution_count": 47,
   "metadata": {
    "id": "Ew6vmqkZ90T1",
    "tags": []
   },
   "outputs": [
    {
     "name": "stdout",
     "output_type": "stream",
     "text": [
      " * sqlite:///hubway.db\n",
      "Done.\n"
     ]
    },
    {
     "data": {
      "text/html": [
       "<table>\n",
       "    <thead>\n",
       "        <tr>\n",
       "            <th>station_id</th>\n",
       "            <th>round_trip_count</th>\n",
       "        </tr>\n",
       "    </thead>\n",
       "    <tbody>\n",
       "        <tr>\n",
       "            <td>58</td>\n",
       "            <td>3064</td>\n",
       "        </tr>\n",
       "        <tr>\n",
       "            <td>36</td>\n",
       "            <td>2548</td>\n",
       "        </tr>\n",
       "        <tr>\n",
       "            <td>42</td>\n",
       "            <td>2163</td>\n",
       "        </tr>\n",
       "        <tr>\n",
       "            <td>53</td>\n",
       "            <td>2144</td>\n",
       "        </tr>\n",
       "        <tr>\n",
       "            <td>52</td>\n",
       "            <td>1636</td>\n",
       "        </tr>\n",
       "    </tbody>\n",
       "</table>"
      ],
      "text/plain": [
       "[(58, 3064), (36, 2548), (42, 2163), (53, 2144), (52, 1636)]"
      ]
     },
     "execution_count": 47,
     "metadata": {},
     "output_type": "execute_result"
    }
   ],
   "source": [
    "%%sql\n",
    "SELECT start_station AS station_id, COUNT(*) AS round_trip_count\n",
    "FROM trips\n",
    "WHERE start_station = end_station\n",
    "GROUP BY start_station\n",
    "ORDER BY round_trip_count DESC\n",
    "LIMIT 5;"
   ]
  },
  {
   "cell_type": "markdown",
   "metadata": {
    "id": "gitxlr_Q90T3"
   },
   "source": [
    "Q8. How many trips start and end in different municipalities?\n",
    "\n",
    "Hint: We need to JOIN the trips table to the stations table twice. Once ON the start_station column and then ON the end_station"
   ]
  },
  {
   "cell_type": "code",
   "execution_count": 48,
   "metadata": {
    "id": "hSxmcbWY90T4"
   },
   "outputs": [
    {
     "name": "stdout",
     "output_type": "stream",
     "text": [
      " * sqlite:///hubway.db\n",
      "Done.\n"
     ]
    },
    {
     "data": {
      "text/html": [
       "<table>\n",
       "    <thead>\n",
       "        <tr>\n",
       "            <th>trips_different_municipalities</th>\n",
       "        </tr>\n",
       "    </thead>\n",
       "    <tbody>\n",
       "        <tr>\n",
       "            <td>309748</td>\n",
       "        </tr>\n",
       "    </tbody>\n",
       "</table>"
      ],
      "text/plain": [
       "[(309748,)]"
      ]
     },
     "execution_count": 48,
     "metadata": {},
     "output_type": "execute_result"
    }
   ],
   "source": [
    "%%sql\n",
    "SELECT COUNT(*) AS trips_different_municipalities\n",
    "FROM trips t\n",
    "JOIN stations s_start ON t.start_station = s_start.id\n",
    "JOIN stations s_end ON t.end_station = s_end.id\n",
    "WHERE s_start.municipality <> s_end.municipality;"
   ]
  },
  {
   "cell_type": "markdown",
   "metadata": {
    "id": "VMIUioIk90T7"
   },
   "source": [
    "Q9. How many trips incurred additional fees (lasted longer than 30 minutes)?\n",
    "\n",
    "Hint: Use an Arithmetic function to calculate Duration in Minutes and Use in Where Clause"
   ]
  },
  {
   "cell_type": "code",
   "execution_count": 86,
   "metadata": {
    "id": "fdR9aX5290T8"
   },
   "outputs": [
    {
     "name": "stdout",
     "output_type": "stream",
     "text": [
      " * sqlite:///hubway.db\n",
      "Done.\n"
     ]
    },
    {
     "data": {
      "text/html": [
       "<table>\n",
       "    <thead>\n",
       "        <tr>\n",
       "            <th>trips_with_additional_fees</th>\n",
       "        </tr>\n",
       "    </thead>\n",
       "    <tbody>\n",
       "        <tr>\n",
       "            <td>123155</td>\n",
       "        </tr>\n",
       "    </tbody>\n",
       "</table>"
      ],
      "text/plain": [
       "[(123155,)]"
      ]
     },
     "execution_count": 86,
     "metadata": {},
     "output_type": "execute_result"
    }
   ],
   "source": [
    "%%sql\n",
    "SELECT COUNT(*) AS trips_with_additional_fees\n",
    "FROM trips\n",
    "WHERE duration > 30 * 60;"
   ]
  },
  {
   "cell_type": "markdown",
   "metadata": {
    "id": "ksQvYCPY90T_"
   },
   "source": [
    "Q10. Which bike was used for the longest total time? Provide the answer in Hours\n",
    "\n",
    "Hint: Use an Group by Bike Number to sum Duration in Seconds and Limit Result to 1"
   ]
  },
  {
   "cell_type": "code",
   "execution_count": 50,
   "metadata": {
    "id": "od0_jInW90UA"
   },
   "outputs": [
    {
     "name": "stdout",
     "output_type": "stream",
     "text": [
      " * sqlite:///hubway.db\n",
      "Done.\n"
     ]
    },
    {
     "data": {
      "text/html": [
       "<table>\n",
       "    <thead>\n",
       "        <tr>\n",
       "            <th>bike_number</th>\n",
       "            <th>total_duration_seconds</th>\n",
       "        </tr>\n",
       "    </thead>\n",
       "    <tbody>\n",
       "        <tr>\n",
       "            <td>B00490</td>\n",
       "            <td>2058643</td>\n",
       "        </tr>\n",
       "    </tbody>\n",
       "</table>"
      ],
      "text/plain": [
       "[('B00490', 2058643)]"
      ]
     },
     "execution_count": 50,
     "metadata": {},
     "output_type": "execute_result"
    }
   ],
   "source": [
    "%%sql\n",
    "\n",
    "SELECT bike_number, SUM(duration) AS total_duration_seconds\n",
    "FROM trips\n",
    "GROUP BY bike_number\n",
    "ORDER BY total_duration_seconds DESC\n",
    "LIMIT 1;"
   ]
  },
  {
   "cell_type": "markdown",
   "metadata": {
    "id": "WoBja5Bi90UD"
   },
   "source": [
    "Q11. Did registered or casual users take more round trips?\n",
    "\n",
    "Hint: Recall Q7 and Modify your query to answer by Sub Type"
   ]
  },
  {
   "cell_type": "code",
   "execution_count": 51,
   "metadata": {
    "id": "hMmdNfE590UE"
   },
   "outputs": [
    {
     "name": "stdout",
     "output_type": "stream",
     "text": [
      " * sqlite:///hubway.db\n",
      "Done.\n"
     ]
    },
    {
     "data": {
      "text/html": [
       "<table>\n",
       "    <thead>\n",
       "        <tr>\n",
       "            <th>sub_type</th>\n",
       "            <th>round_trips_count</th>\n",
       "        </tr>\n",
       "    </thead>\n",
       "    <tbody>\n",
       "        <tr>\n",
       "            <td>Casual</td>\n",
       "            <td>41427</td>\n",
       "        </tr>\n",
       "        <tr>\n",
       "            <td>Registered</td>\n",
       "            <td>31635</td>\n",
       "        </tr>\n",
       "    </tbody>\n",
       "</table>"
      ],
      "text/plain": [
       "[('Casual', 41427), ('Registered', 31635)]"
      ]
     },
     "execution_count": 51,
     "metadata": {},
     "output_type": "execute_result"
    }
   ],
   "source": [
    "%%sql\n",
    "SELECT sub_type, COUNT(*) AS round_trips_count\n",
    "FROM trips\n",
    "WHERE start_station = end_station\n",
    "GROUP BY sub_type;"
   ]
  },
  {
   "cell_type": "markdown",
   "metadata": {
    "id": "3HQvpScA90UG"
   },
   "source": [
    "Q12. Which municipality had the most frequent Station End?\n",
    "\n",
    "Hint: Join the Station table on End Station and then Group by Municipality to find answer"
   ]
  },
  {
   "cell_type": "code",
   "execution_count": 52,
   "metadata": {
    "id": "l3UJnvRV90UH"
   },
   "outputs": [
    {
     "name": "stdout",
     "output_type": "stream",
     "text": [
      " * sqlite:///hubway.db\n",
      "Done.\n"
     ]
    },
    {
     "data": {
      "text/html": [
       "<table>\n",
       "    <thead>\n",
       "        <tr>\n",
       "            <th>municipality</th>\n",
       "            <th>station_end_count</th>\n",
       "        </tr>\n",
       "    </thead>\n",
       "    <tbody>\n",
       "        <tr>\n",
       "            <td>Boston</td>\n",
       "            <td>1212364</td>\n",
       "        </tr>\n",
       "    </tbody>\n",
       "</table>"
      ],
      "text/plain": [
       "[('Boston', 1212364)]"
      ]
     },
     "execution_count": 52,
     "metadata": {},
     "output_type": "execute_result"
    }
   ],
   "source": [
    "%%sql\n",
    "\n",
    "SELECT s.municipality, COUNT(*) AS station_end_count\n",
    "FROM trips t\n",
    "JOIN stations s ON t.end_station = s.id\n",
    "GROUP BY s.municipality\n",
    "ORDER BY station_end_count DESC\n",
    "LIMIT 1;"
   ]
  },
  {
   "cell_type": "markdown",
   "metadata": {
    "id": "dOhc8kihADoM"
   },
   "source": [
    "Q13. Which From and To Routes are Frequent with Regards to Municipalities?\n",
    "\n",
    "Hint: Get Start and End Municipalities and Group by Both Attributes for Count of Rides"
   ]
  },
  {
   "cell_type": "code",
   "execution_count": 53,
   "metadata": {
    "id": "zaw_-evaADoM"
   },
   "outputs": [
    {
     "name": "stdout",
     "output_type": "stream",
     "text": [
      " * sqlite:///hubway.db\n",
      "Done.\n"
     ]
    },
    {
     "data": {
      "text/html": [
       "<table>\n",
       "    <thead>\n",
       "        <tr>\n",
       "            <th>from_municipality</th>\n",
       "            <th>to_municipality</th>\n",
       "            <th>route_count</th>\n",
       "        </tr>\n",
       "    </thead>\n",
       "    <tbody>\n",
       "        <tr>\n",
       "            <td>Boston</td>\n",
       "            <td>Cambridge</td>\n",
       "            <td>110968</td>\n",
       "        </tr>\n",
       "        <tr>\n",
       "            <td>Cambridge</td>\n",
       "            <td>Boston</td>\n",
       "            <td>110078</td>\n",
       "        </tr>\n",
       "        <tr>\n",
       "            <td>Cambridge</td>\n",
       "            <td>Somerville</td>\n",
       "            <td>20998</td>\n",
       "        </tr>\n",
       "        <tr>\n",
       "            <td>Somerville</td>\n",
       "            <td>Cambridge</td>\n",
       "            <td>20765</td>\n",
       "        </tr>\n",
       "        <tr>\n",
       "            <td>Boston</td>\n",
       "            <td>Brookline</td>\n",
       "            <td>14838</td>\n",
       "        </tr>\n",
       "        <tr>\n",
       "            <td>Brookline</td>\n",
       "            <td>Boston</td>\n",
       "            <td>14573</td>\n",
       "        </tr>\n",
       "        <tr>\n",
       "            <td>Boston</td>\n",
       "            <td>Somerville</td>\n",
       "            <td>6071</td>\n",
       "        </tr>\n",
       "        <tr>\n",
       "            <td>Somerville</td>\n",
       "            <td>Boston</td>\n",
       "            <td>5903</td>\n",
       "        </tr>\n",
       "        <tr>\n",
       "            <td>Brookline</td>\n",
       "            <td>Cambridge</td>\n",
       "            <td>2738</td>\n",
       "        </tr>\n",
       "        <tr>\n",
       "            <td>Cambridge</td>\n",
       "            <td>Brookline</td>\n",
       "            <td>2566</td>\n",
       "        </tr>\n",
       "        <tr>\n",
       "            <td>Somerville</td>\n",
       "            <td>Brookline</td>\n",
       "            <td>144</td>\n",
       "        </tr>\n",
       "        <tr>\n",
       "            <td>Brookline</td>\n",
       "            <td>Somerville</td>\n",
       "            <td>106</td>\n",
       "        </tr>\n",
       "    </tbody>\n",
       "</table>"
      ],
      "text/plain": [
       "[('Boston', 'Cambridge', 110968),\n",
       " ('Cambridge', 'Boston', 110078),\n",
       " ('Cambridge', 'Somerville', 20998),\n",
       " ('Somerville', 'Cambridge', 20765),\n",
       " ('Boston', 'Brookline', 14838),\n",
       " ('Brookline', 'Boston', 14573),\n",
       " ('Boston', 'Somerville', 6071),\n",
       " ('Somerville', 'Boston', 5903),\n",
       " ('Brookline', 'Cambridge', 2738),\n",
       " ('Cambridge', 'Brookline', 2566),\n",
       " ('Somerville', 'Brookline', 144),\n",
       " ('Brookline', 'Somerville', 106)]"
      ]
     },
     "execution_count": 53,
     "metadata": {},
     "output_type": "execute_result"
    }
   ],
   "source": [
    "%%sql\n",
    "\n",
    "SELECT \n",
    "    s_start.municipality AS from_municipality,\n",
    "    s_end.municipality AS to_municipality,\n",
    "    COUNT(*) AS route_count\n",
    "FROM trips t\n",
    "JOIN stations s_start ON t.start_station = s_start.id\n",
    "JOIN stations s_end ON t.end_station = s_end.id\n",
    "WHERE s_start.municipality <> s_end.municipality\n",
    "GROUP BY s_start.municipality, s_end.municipality\n",
    "ORDER BY route_count DESC;"
   ]
  },
  {
   "cell_type": "markdown",
   "metadata": {
    "id": "ehT4zCLRADoN"
   },
   "source": [
    "Q14. Which Age Band in \"Registered Users\" has the most Rides? Calculate Age Bands based on interval of 10 and Cut Off by 70 or Above\n",
    "\n",
    "Hint: Use Case When to Create Range of Value Bands as per Above Criteria then Group By. Use DoB Years to Calculate Age First (https://youtu.be/G46GIIRbO-g?t=76)"
   ]
  },
  {
   "cell_type": "code",
   "execution_count": 54,
   "metadata": {
    "id": "AmbR10VsADoN"
   },
   "outputs": [
    {
     "name": "stdout",
     "output_type": "stream",
     "text": [
      " * sqlite:///hubway.db\n",
      "Done.\n"
     ]
    },
    {
     "data": {
      "text/html": [
       "<table>\n",
       "    <thead>\n",
       "        <tr>\n",
       "            <th>age_band</th>\n",
       "            <th>ride_count</th>\n",
       "        </tr>\n",
       "    </thead>\n",
       "    <tbody>\n",
       "        <tr>\n",
       "            <td>70+</td>\n",
       "            <td>768996</td>\n",
       "        </tr>\n",
       "    </tbody>\n",
       "</table>"
      ],
      "text/plain": [
       "[('70+', 768996)]"
      ]
     },
     "execution_count": 54,
     "metadata": {},
     "output_type": "execute_result"
    }
   ],
   "source": [
    "%%sql\n",
    "\n",
    "SELECT \n",
    "    CASE\n",
    "        WHEN (2024 - birth_date) <= 10 THEN '1-10'\n",
    "        WHEN (2024 - birth_date) <= 20 THEN '11-20'\n",
    "        WHEN (2024 - birth_date) <= 30 THEN '21-30'\n",
    "        WHEN (2024 - birth_date) <= 40 THEN '31-40'\n",
    "        WHEN (2024 - birth_date) <= 50 THEN '41-50'\n",
    "        WHEN (2024 - birth_date) <= 60 THEN '51-60'\n",
    "        WHEN (2024 - birth_date) <= 70 THEN '61-70'\n",
    "        ELSE '70+'\n",
    "    END AS age_band,\n",
    "    COUNT(*) AS ride_count\n",
    "FROM trips\n",
    "WHERE sub_type = 'Registered'\n",
    "GROUP BY age_band\n",
    "ORDER BY ride_count DESC\n",
    "LIMIT 1;\n"
   ]
  },
  {
   "cell_type": "markdown",
   "metadata": {
    "id": "xxhjDL_CADoN"
   },
   "source": [
    "# Analyzing Hubway Trips in Python"
   ]
  },
  {
   "cell_type": "code",
   "execution_count": 55,
   "metadata": {
    "colab": {
     "base_uri": "https://localhost:8080/"
    },
    "executionInfo": {
     "elapsed": 1128,
     "status": "ok",
     "timestamp": 1713248619212,
     "user": {
      "displayName": "Mesum Raza Hemani",
      "userId": "02137032281712867702"
     },
     "user_tz": -300
    },
    "id": "wKsWrjA3ADoN",
    "outputId": "2772214d-c14d-4231-b4fe-ca963512b881"
   },
   "outputs": [
    {
     "name": "stdout",
     "output_type": "stream",
     "text": [
      "1570001\n",
      "142\n",
      "1570001\n",
      "142\n"
     ]
    }
   ],
   "source": [
    "# MANDATORY CELL TO EXECUTE FIRST SO WE HAVE DATA IN THE RIGHT TYPE\n",
    "\n",
    "import sqlite3\n",
    "\n",
    "import pandas as pd, numpy as np\n",
    "\n",
    "cnx = sqlite3.connect('hubway.db')\n",
    "\n",
    "cnx.cursor().executescript(\"\"\"\n",
    "\n",
    "UPDATE trips SET duration       = NULL WHERE duration IS '';\n",
    "UPDATE trips SET start_date     = NULL WHERE start_date IS '';\n",
    "UPDATE trips SET start_station  = NULL WHERE start_station IS '';\n",
    "UPDATE trips SET end_date       = NULL WHERE end_date IS '';\n",
    "UPDATE trips SET end_station    = NULL WHERE end_station IS '';\n",
    "UPDATE trips SET sub_type       = NULL WHERE sub_type IS '';\n",
    "UPDATE trips SET zip_code       = NULL WHERE zip_code IS '';\n",
    "UPDATE trips SET birth_date     = NULL WHERE birth_date IS '';\n",
    "UPDATE trips SET gender         = NULL WHERE gender IS '';\n",
    "\n",
    "\"\"\")\n",
    "\n",
    "trips=pd.read_sql_query(\"SELECT * FROM trips\", cnx)\n",
    "stations=pd.read_sql_query(\"SELECT * FROM stations\", cnx)\n",
    "\n",
    "print(len(trips))\n",
    "print(len(stations))\n",
    "\n",
    "trips=trips\\\n",
    "    .replace(r'^\\s*$', np.nan, regex=True)\\\n",
    "    .astype({\\\n",
    "            'start_date':'datetime64[ns]'\\\n",
    "            ,'end_date':'datetime64[ns]'\\\n",
    "            ,'start_station':pd.Int64Dtype()\\\n",
    "            ,'end_station':pd.Int64Dtype()\\\n",
    "            ,'birth_date':pd.Int64Dtype()\\\n",
    "            })\n",
    "\n",
    "stations=stations\\\n",
    "    .replace(r'^\\s*$', np.nan, regex=True)\\\n",
    "    .astype({\\\n",
    "            'lat':'float64'\\\n",
    "            ,'lng':'float64'\\\n",
    "            })\n",
    "\n",
    "print(len(trips))\n",
    "print(len(stations))\n",
    "\n",
    "cnx.close()"
   ]
  },
  {
   "cell_type": "code",
   "execution_count": 57,
   "metadata": {
    "colab": {
     "base_uri": "https://localhost:8080/"
    },
    "executionInfo": {
     "elapsed": 5,
     "status": "ok",
     "timestamp": 1713248353827,
     "user": {
      "displayName": "Mesum Raza Hemani",
      "userId": "02137032281712867702"
     },
     "user_tz": -300
    },
    "id": "0vOowduvADoN",
    "outputId": "815f45fb-d311-4bed-df34-8dbec383d601"
   },
   "outputs": [
    {
     "name": "stdout",
     "output_type": "stream",
     "text": [
      "   id  duration          start_date  start_station            end_date  \\\n",
      "0   1         9 2011-07-28 10:12:00             23 2011-07-28 10:12:00   \n",
      "1   2       220 2011-07-28 10:21:00             23 2011-07-28 10:25:00   \n",
      "2   3        56 2011-07-28 10:33:00             23 2011-07-28 10:34:00   \n",
      "3   4        64 2011-07-28 10:35:00             23 2011-07-28 10:36:00   \n",
      "4   5        12 2011-07-28 10:37:00             23 2011-07-28 10:37:00   \n",
      "\n",
      "   end_station bike_number    sub_type zip_code  birth_date  gender  \n",
      "0           23      B00468  Registered   '97217        1976    Male  \n",
      "1           23      B00554  Registered   '02215        1966    Male  \n",
      "2           23      B00456  Registered   '02108        1943    Male  \n",
      "3           23      B00554  Registered   '02116        1981  Female  \n",
      "4           23      B00554  Registered   '97214        1983  Female  \n",
      "\n",
      " ------- \n",
      "\n",
      "   id                             station municipality        lat        lng\n",
      "0   3              Colleges of the Fenway       Boston  42.340021 -71.100812\n",
      "1   4         Tremont St. at Berkeley St.       Boston  42.345392 -71.069616\n",
      "2   5  Northeastern U / North Parking Lot       Boston  42.341814 -71.090179\n",
      "3   6            Cambridge St. at Joy St.       Boston  42.361285 -71.065140\n",
      "4   7                            Fan Pier       Boston  42.353412 -71.044624\n"
     ]
    }
   ],
   "source": [
    "# CHECKING IF THE DATA IS LOAD INTO RIGHT TABLES IN PYTHON DF\n",
    "\n",
    "print(trips.head(5))\n",
    "\n",
    "print('\\n ------- \\n')\n",
    "\n",
    "print(stations.head(5))"
   ]
  },
  {
   "cell_type": "code",
   "execution_count": 58,
   "metadata": {
    "colab": {
     "base_uri": "https://localhost:8080/",
     "height": 81
    },
    "executionInfo": {
     "elapsed": 8,
     "status": "ok",
     "timestamp": 1713248231345,
     "user": {
      "displayName": "Mesum Raza Hemani",
      "userId": "02137032281712867702"
     },
     "user_tz": -300
    },
    "id": "rbDIWWVUADoN",
    "outputId": "58c91762-3d5c-411d-8a04-533bea5f0769"
   },
   "outputs": [
    {
     "data": {
      "text/html": [
       "<div>\n",
       "<style scoped>\n",
       "    .dataframe tbody tr th:only-of-type {\n",
       "        vertical-align: middle;\n",
       "    }\n",
       "\n",
       "    .dataframe tbody tr th {\n",
       "        vertical-align: top;\n",
       "    }\n",
       "\n",
       "    .dataframe thead th {\n",
       "        text-align: right;\n",
       "    }\n",
       "</style>\n",
       "<table border=\"1\" class=\"dataframe\">\n",
       "  <thead>\n",
       "    <tr style=\"text-align: right;\">\n",
       "      <th></th>\n",
       "      <th>mean</th>\n",
       "      <th>min</th>\n",
       "      <th>max</th>\n",
       "    </tr>\n",
       "  </thead>\n",
       "  <tbody>\n",
       "    <tr>\n",
       "      <th>duration</th>\n",
       "      <td>912.409682</td>\n",
       "      <td>0.0</td>\n",
       "      <td>9999.0</td>\n",
       "    </tr>\n",
       "  </tbody>\n",
       "</table>\n",
       "</div>"
      ],
      "text/plain": [
       "                mean  min     max\n",
       "duration  912.409682  0.0  9999.0"
      ]
     },
     "execution_count": 58,
     "metadata": {},
     "output_type": "execute_result"
    }
   ],
   "source": [
    "# EXAMPLE SOLUTION, REMEMBER YOUR ANSWER SHOULD BE PRECISE AND ON POINT (SORTED AND IN RIGHT FORMAT)\n",
    "\n",
    "##PYTHON SOLUTION\n",
    "\n",
    "trips.agg({'duration': ['mean', 'min', 'max']}).T"
   ]
  },
  {
   "cell_type": "code",
   "execution_count": 97,
   "metadata": {
    "id": "Q-sS7oEpADoO"
   },
   "outputs": [
    {
     "data": {
      "text/plain": [
       "1105192"
      ]
     },
     "execution_count": 97,
     "metadata": {},
     "output_type": "execute_result"
    }
   ],
   "source": [
    "registered_trips_count = trips[trips['sub_type'] == 'Registered'].shape[0]\n",
    "registered_trips_count"
   ]
  },
  {
   "cell_type": "code",
   "execution_count": 98,
   "metadata": {
    "id": "_jz_-LU7ADoO"
   },
   "outputs": [
    {
     "data": {
      "text/plain": [
       "gender\n",
       "Male        833858\n",
       "Female      271333\n",
       "Female\\n         1\n",
       "Name: count, dtype: int64"
      ]
     },
     "execution_count": 98,
     "metadata": {},
     "output_type": "execute_result"
    }
   ],
   "source": [
    "trip_count_by_gender = trips[(trips['sub_type'] == 'Registered') & (trips['gender'].notnull())]['gender'].value_counts()\n",
    "trip_count_by_gender"
   ]
  },
  {
   "cell_type": "code",
   "execution_count": 99,
   "metadata": {
    "id": "A-JkaJ08ADoO"
   },
   "outputs": [
    {
     "data": {
      "text/plain": [
       "sub_type\n",
       "Casual        1519.643897\n",
       "Registered     657.026067\n",
       "Name: duration, dtype: float64"
      ]
     },
     "execution_count": 99,
     "metadata": {},
     "output_type": "execute_result"
    }
   ],
   "source": [
    "avg_trip_duration_by_sub_type = trips.groupby('sub_type')['duration'].mean()\n",
    "\n",
    "avg_trip_duration_by_sub_type"
   ]
  },
  {
   "cell_type": "code",
   "execution_count": 62,
   "metadata": {
    "id": "pgcQ1rPZADoO"
   },
   "outputs": [
    {
     "name": "stdout",
     "output_type": "stream",
     "text": [
      "Bike number used for the most trips: B00490\n",
      "Number of trips for the most used bike: 2120\n"
     ]
    }
   ],
   "source": [
    "bike_counts = trips['bike_number'].value_counts()\n",
    "most_used_bike = bike_counts.idxmax()\n",
    "trip_count_most_used_bike = bike_counts.max()\n",
    "print(\"Bike number used for the most trips:\", most_used_bike)\n",
    "print(\"Number of trips for the most used bike:\", trip_count_most_used_bike)\n"
   ]
  },
  {
   "cell_type": "code",
   "execution_count": 100,
   "metadata": {
    "id": "qssXWctPADoO"
   },
   "outputs": [
    {
     "name": "stdout",
     "output_type": "stream",
     "text": [
      "Average duration of trips by users over the age of 30: 657.8409386999451\n"
     ]
    }
   ],
   "source": [
    "from datetime import datetime\n",
    "\n",
    "trips['birth_date'] = pd.to_datetime(trips['birth_date'])\n",
    "trips['age'] = datetime.now().year - trips['birth_date'].dt.year\n",
    "avg_duration_over_30 = trips[trips['age'] > 30]['duration'].mean()\n",
    "print(\"Average duration of trips by users over the age of 30:\", avg_duration_over_30)\n"
   ]
  },
  {
   "cell_type": "code",
   "execution_count": 102,
   "metadata": {
    "id": "5zMTL2SAADoO"
   },
   "outputs": [
    {
     "name": "stdout",
     "output_type": "stream",
     "text": [
      "Top 5 stations most frequently used for round trips:\n",
      "               round_trip_count\n",
      "start_station                  \n",
      "58                         3064\n",
      "36                         2548\n",
      "42                         2163\n",
      "53                         2144\n",
      "52                         1636\n"
     ]
    }
   ],
   "source": [
    "trips['is_round_trip'] = trips['start_station'] == trips['end_station']\n",
    "round_trip_count_by_station = trips.groupby('start_station').agg(round_trip_count=('is_round_trip', 'sum'))\n",
    "top_round_trip_stations = round_trip_count_by_station.nlargest(5, 'round_trip_count')\n",
    "print(\"Top 5 stations most frequently used for round trips:\")\n",
    "print(top_round_trip_stations)"
   ]
  },
  {
   "cell_type": "code",
   "execution_count": 103,
   "metadata": {
    "id": "3u4Ej24CADoO"
   },
   "outputs": [
    {
     "name": "stdout",
     "output_type": "stream",
     "text": [
      "Number of trips that start and end in different municipalities: 309748\n"
     ]
    }
   ],
   "source": [
    "merged_trips = pd.merge(trips, stations, left_on='start_station', right_on='id', suffixes=('_start', '_end'))\n",
    "merged_trips = pd.merge(merged_trips, stations, left_on='end_station', right_on='id', suffixes=('_start', '_end'))\n",
    "different_municipalities_trips = merged_trips[merged_trips['municipality_start'] != merged_trips['municipality_end']]\n",
    "trips_count = different_municipalities_trips['id_start'].count()\n",
    "\n",
    "print(\"Number of trips that start and end in different municipalities:\", trips_count)\n",
    "\n"
   ]
  },
  {
   "cell_type": "code",
   "execution_count": 104,
   "metadata": {
    "id": "qdX-MbjNADoO"
   },
   "outputs": [
    {
     "name": "stdout",
     "output_type": "stream",
     "text": [
      "Number of trips that lasted longer than 30 minutes (incurring additional fees): 123155\n"
     ]
    }
   ],
   "source": [
    "trips['duration_minutes'] = trips['duration'] / 60\n",
    "additional_fee_trips_count = trips[trips['duration_minutes'] > 30].shape[0]\n",
    "print(\"Number of trips that lasted longer than 30 minutes (incurring additional fees):\", additional_fee_trips_count)"
   ]
  },
  {
   "cell_type": "code",
   "execution_count": 105,
   "metadata": {
    "id": "-a-LcD3NADoO"
   },
   "outputs": [
    {
     "name": "stdout",
     "output_type": "stream",
     "text": [
      "Bike number used for the longest total time: B00490\n",
      "Total duration for the longest used bike (in seconds): 2058643\n"
     ]
    }
   ],
   "source": [
    "total_duration_by_bike = trips.groupby('bike_number')['duration'].sum()\n",
    "most_used_bike = total_duration_by_bike.idxmax()\n",
    "total_duration_longest_bike = total_duration_by_bike.max()\n",
    "print(\"Bike number used for the longest total time:\", most_used_bike)\n",
    "print(\"Total duration for the longest used bike (in seconds):\", total_duration_longest_bike)\n"
   ]
  },
  {
   "cell_type": "code",
   "execution_count": 74,
   "metadata": {
    "id": "CJdmMWsRADoO"
   },
   "outputs": [
    {
     "name": "stdout",
     "output_type": "stream",
     "text": [
      "Number of round trips for each sub_type:\n",
      "            round_trips_count\n",
      "sub_type                     \n",
      "Casual                  41427\n",
      "Registered              31635\n"
     ]
    }
   ],
   "source": [
    "round_trips_count_by_sub_type = trips[trips['start_station'] == trips['end_station']].groupby('sub_type').agg(round_trips_count=('start_station', 'size'))\n",
    "print(\"Number of round trips for each sub_type:\")\n",
    "print(round_trips_count_by_sub_type)"
   ]
  },
  {
   "cell_type": "code",
   "execution_count": 106,
   "metadata": {
    "id": "o2ImNrM2ADoO"
   },
   "outputs": [
    {
     "name": "stdout",
     "output_type": "stream",
     "text": [
      "Municipality with the most frequent station ends: Boston\n",
      "Number of station ends in the most frequent municipality: 1212364\n"
     ]
    }
   ],
   "source": [
    "merged_trips_stations = pd.merge(trips, stations, left_on='end_station', right_on='id')\n",
    "station_end_count_by_municipality = merged_trips_stations.groupby('municipality').agg({'municipality': 'count'})\n",
    "station_end_count_by_municipality = station_end_count_by_municipality.rename(columns={'municipality': 'station_end_count'})\n",
    "most_frequent_station_end_municipality = station_end_count_by_municipality['station_end_count'].idxmax()\n",
    "station_end_count_most_frequent_municipality = station_end_count_by_municipality['station_end_count'].max()\n",
    "\n",
    "print(\"Municipality with the most frequent station ends:\", most_frequent_station_end_municipality)\n",
    "print(\"Number of station ends in the most frequent municipality:\", station_end_count_most_frequent_municipality)"
   ]
  },
  {
   "cell_type": "code",
   "execution_count": 107,
   "metadata": {
    "id": "tmSZ9CBhADoP"
   },
   "outputs": [
    {
     "name": "stdout",
     "output_type": "stream",
     "text": [
      "Most frequent routes between municipalities:\n",
      "  municipality_start municipality_end  trip_count\n",
      "0             Boston           Boston     1081805\n",
      "1          Cambridge        Cambridge      162538\n",
      "2             Boston        Cambridge      110968\n",
      "3          Cambridge           Boston      110078\n",
      "4          Cambridge       Somerville       20998\n"
     ]
    }
   ],
   "source": [
    "trips_with_municipalities = trips.merge(stations, left_on='start_station', right_on='id', suffixes=('_start', '_end'))\n",
    "trips_with_municipalities = trips_with_municipalities.merge(stations, left_on='end_station', right_on='id', suffixes=('_start', '_end'))\n",
    "frequent_routes = trips_with_municipalities.groupby(['municipality_start', 'municipality_end']).size().nlargest(5).reset_index(name='trip_count')\n",
    "\n",
    "print(\"Most frequent routes between municipalities:\")\n",
    "print(frequent_routes)"
   ]
  },
  {
   "cell_type": "code",
   "execution_count": 108,
   "metadata": {
    "id": "OSkkpkDcADoP"
   },
   "outputs": [
    {
     "name": "stdout",
     "output_type": "stream",
     "text": [
      "Age band with the most rides for registered users:\n",
      "age_band       51-60\n",
      "ride_count    350016\n",
      "Name: 5, dtype: object\n"
     ]
    }
   ],
   "source": [
    "current_year = 2024\n",
    "trips['age'] = current_year - trips['birth_date'].dt.year\n",
    "trips['age_band'] = pd.cut(trips['age'], bins=[0, 10, 20, 30, 40, 50, 60, 70, float('inf')], labels=['1-10', '11-20', '21-30', '31-40', '41-50', '51-60', '61-70', '70+'])\n",
    "registered_trips = trips[trips['sub_type'] == 'Registered']\n",
    "ride_count_by_age_band = registered_trips.groupby('age_band').size().reset_index(name='ride_count')\n",
    "most_rides_age_band = ride_count_by_age_band.loc[ride_count_by_age_band['ride_count'].idxmax()]\n",
    "print(\"Age band with the most rides for registered users:\")\n",
    "print(most_rides_age_band)\n"
   ]
  },
  {
   "cell_type": "markdown",
   "metadata": {
    "id": "oYGpjiw8ADoP"
   },
   "source": [
    "### BONUS PYTHON QUESTION (10 Marks)\n",
    "\n",
    "##### Can you show a Report in Python \"What are the Top 5 States with Most Number of Rides\" For Registered Users Only\n",
    "\n",
    "##### Hints :\n",
    "\n",
    "1. Use the Sampled Dataframe for your working, else it would take a lot of time to convert many rows in Original table.\n",
    "\n",
    "2. You will need Data Type Conversion and Cleaning of Zip Code (Don't fear errors / Learn from them)\n",
    "\n",
    "3. Where do you get the States? READ THE CELL BELOW\n",
    "\n",
    "!pip install zipcodes\n",
    "\n",
    "print('\\n')\n",
    "\n",
    "import zipcodes\n",
    "\n",
    "##### Gets All the Information Available against ZipCode\n",
    "\n",
    "print(zipcodes.matching('77429')[0].keys())\n",
    "\n",
    "['zip_code', 'zip_code_type', 'active', 'city', 'acceptable_cities', 'unacceptable_cities', 'state', 'county', 'timezone', 'area_codes', 'world_region', 'country', 'lat', 'long']\n",
    "\n",
    "##### Sample Working how to Fetch a Against a ZipCode\n",
    "\n",
    "zipcodes.matching('77429')[0].get('state')\n",
    "\n",
    "READ MORE > https://github.com/seanpianka/Zipcodes\n"
   ]
  },
  {
   "cell_type": "code",
   "execution_count": 78,
   "metadata": {},
   "outputs": [
    {
     "name": "stdout",
     "output_type": "stream",
     "text": [
      "Defaulting to user installation because normal site-packages is not writeable\n",
      "Requirement already satisfied: zipcodes in c:\\users\\saeed\\appdata\\roaming\\python\\python311\\site-packages (1.2.0)\n",
      "\n",
      "\n"
     ]
    }
   ],
   "source": [
    "\n",
    "!pip install zipcodes\n",
    "\n",
    "print('\\n')\n",
    "\n",
    "import zipcodes"
   ]
  },
  {
   "cell_type": "code",
   "execution_count": 79,
   "metadata": {
    "id": "sSPIRkL8ADoP"
   },
   "outputs": [],
   "source": [
    "#EXECUTE THIS CELL TO CREATE SAMPLED DATAFRAME\n",
    "\n",
    "registered_trips_sampled=trips.query(\"sub_type=='Registered'\").groupby('zip_code').apply(lambda x: x.sample(10, replace=True)).reset_index(drop = True)"
   ]
  },
  {
   "cell_type": "code",
   "execution_count": 80,
   "metadata": {},
   "outputs": [],
   "source": [
    "import pandas as pd\n",
    "import zipcodes"
   ]
  },
  {
   "cell_type": "code",
   "execution_count": 109,
   "metadata": {
    "id": "S-F7MA76ADoP",
    "outputId": "8d1a68c1-b151-4543-f3fe-a83cb088e12e"
   },
   "outputs": [],
   "source": [
    "def get_state(zip_code):\n",
    "    if pd.isnull(zip_code):\n",
    "        zip_code = '0'\n",
    "    \n",
    "    zip_code = ''.join(filter(str.isdigit, str(zip_code)))\n",
    "    try:\n",
    "        state = zipcodes.matching(zip_code)[0].get('state')\n",
    "    except:\n",
    "        state = None\n",
    "    return state\n",
    "\n",
    "registered_trips_sampled['state'] = registered_trips_sampled['zip_code'].apply(get_state)"
   ]
  },
  {
   "cell_type": "code",
   "execution_count": 110,
   "metadata": {},
   "outputs": [
    {
     "name": "stdout",
     "output_type": "stream",
     "text": [
      "Top 5 States with the Most Number of Rides for Registered Users:\n",
      "state\n",
      "MA    3040\n",
      "NH     460\n",
      "NY     200\n",
      "RI     190\n",
      "CT     160\n",
      "Name: count, dtype: int64\n"
     ]
    }
   ],
   "source": [
    "top_states = registered_trips_sampled['state'].value_counts().nlargest(5)\n",
    "\n",
    "print(\"Top 5 States with the Most Number of Rides for Registered Users:\")\n",
    "print(top_states)"
   ]
  },
  {
   "cell_type": "code",
   "execution_count": 83,
   "metadata": {
    "id": "vFr0WvnhADoP"
   },
   "outputs": [],
   "source": [
    "# WE WILL USE THIS DICTIONARY TO MAP STATE NAMES INSTEAD OF ABBREVIATIONS\n",
    "\n",
    "state_names = {\n",
    "        'AK': 'Alaska',\n",
    "        'AL': 'Alabama',\n",
    "        'AR': 'Arkansas',\n",
    "        'AS': 'American Samoa',\n",
    "        'AZ': 'Arizona',\n",
    "        'CA': 'California',\n",
    "        'CO': 'Colorado',\n",
    "        'CT': 'Connecticut',\n",
    "        'DC': 'District of Columbia',\n",
    "        'DE': 'Delaware',\n",
    "        'FL': 'Florida',\n",
    "        'GA': 'Georgia',\n",
    "        'GU': 'Guam',\n",
    "        'HI': 'Hawaii',\n",
    "        'IA': 'Iowa',\n",
    "        'ID': 'Idaho',\n",
    "        'IL': 'Illinois',\n",
    "        'IN': 'Indiana',\n",
    "        'KS': 'Kansas',\n",
    "        'KY': 'Kentucky',\n",
    "        'LA': 'Louisiana',\n",
    "        'MA': 'Massachusetts',\n",
    "        'MD': 'Maryland',\n",
    "        'ME': 'Maine',\n",
    "        'MI': 'Michigan',\n",
    "        'MN': 'Minnesota',\n",
    "        'MO': 'Missouri',\n",
    "        'MP': 'Northern Mariana Islands',\n",
    "        'MS': 'Mississippi',\n",
    "        'MT': 'Montana',\n",
    "        'NA': 'National',\n",
    "        'NC': 'North Carolina',\n",
    "        'ND': 'North Dakota',\n",
    "        'NE': 'Nebraska',\n",
    "        'NH': 'New Hampshire',\n",
    "        'NJ': 'New Jersey',\n",
    "        'NM': 'New Mexico',\n",
    "        'NV': 'Nevada',\n",
    "        'NY': 'New York',\n",
    "        'OH': 'Ohio',\n",
    "        'OK': 'Oklahoma',\n",
    "        'OR': 'Oregon',\n",
    "        'PA': 'Pennsylvania',\n",
    "        'PR': 'Puerto Rico',\n",
    "        'RI': 'Rhode Island',\n",
    "        'SC': 'South Carolina',\n",
    "        'SD': 'South Dakota',\n",
    "        'TN': 'Tennessee',\n",
    "        'TX': 'Texas',\n",
    "        'UT': 'Utah',\n",
    "        'VA': 'Virginia',\n",
    "        'VI': 'Virgin Islands',\n",
    "        'VT': 'Vermont',\n",
    "        'WA': 'Washington',\n",
    "        'WI': 'Wisconsin',\n",
    "        'WV': 'West Virginia',\n",
    "        'WY': 'Wyoming'\n",
    "}\n"
   ]
  },
  {
   "cell_type": "code",
   "execution_count": 111,
   "metadata": {
    "id": "DsDa6AdeADoP"
   },
   "outputs": [
    {
     "name": "stdout",
     "output_type": "stream",
     "text": [
      "Top 5 States with the Most Number of Rides for Registered Users:\n",
      "state\n",
      "Massachusetts    3040\n",
      "New Hampshire     460\n",
      "New York          200\n",
      "Rhode Island      190\n",
      "Connecticut       160\n",
      "Name: count, dtype: int64\n"
     ]
    }
   ],
   "source": [
    "def get_state(zip_code):\n",
    "    if pd.isnull(zip_code):\n",
    "        zip_code = '0'\n",
    "    zip_code = ''.join(filter(str.isdigit, str(zip_code)))\n",
    "    try:\n",
    "        state_abbr = zipcodes.matching(zip_code)[0].get('state')\n",
    "        state_name = state_names.get(state_abbr)\n",
    "    except:\n",
    "        state_name = None\n",
    "    return state_name\n",
    "\n",
    "registered_trips_sampled['state'] = registered_trips_sampled['zip_code'].apply(get_state)\n",
    "\n",
    "top_states = registered_trips_sampled['state'].value_counts().nlargest(5)\n",
    "\n",
    "print(\"Top 5 States with the Most Number of Rides for Registered Users:\")\n",
    "print(top_states)\n"
   ]
  },
  {
   "cell_type": "markdown",
   "metadata": {
    "id": "nT01qUxmADoQ"
   },
   "source": [
    "### WE HOPE YOU ENJOYED LEARNING SQL & PYTHON TOGHETHER"
   ]
  }
 ],
 "metadata": {
  "colab": {
   "collapsed_sections": [
    "nT01qUxmADoQ"
   ],
   "provenance": []
  },
  "kernel_info": {
   "name": "python3"
  },
  "kernelspec": {
   "display_name": "Python 3 (ipykernel)",
   "language": "python",
   "name": "python3"
  },
  "language_info": {
   "codemirror_mode": {
    "name": "ipython",
    "version": 3
   },
   "file_extension": ".py",
   "mimetype": "text/x-python",
   "name": "python",
   "nbconvert_exporter": "python",
   "pygments_lexer": "ipython3",
   "version": "3.11.5"
  },
  "nteract": {
   "version": "0.25.1"
  }
 },
 "nbformat": 4,
 "nbformat_minor": 1
}
